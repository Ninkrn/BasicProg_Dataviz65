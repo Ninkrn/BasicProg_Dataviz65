{
  "nbformat": 4,
  "nbformat_minor": 0,
  "metadata": {
    "colab": {
      "name": "Recap 1-3 Quiz1.ipynb",
      "provenance": [],
      "include_colab_link": true
    },
    "kernelspec": {
      "name": "python3",
      "display_name": "Python 3"
    },
    "language_info": {
      "name": "python"
    }
  },
  "cells": [
    {
      "cell_type": "markdown",
      "metadata": {
        "id": "view-in-github",
        "colab_type": "text"
      },
      "source": [
        "<a href=\"https://colab.research.google.com/github/Ninkrn/BasicProg_Dataviz65/blob/main/Recap_1_3_Quiz1.ipynb\" target=\"_parent\"><img src=\"https://colab.research.google.com/assets/colab-badge.svg\" alt=\"Open In Colab\"/></a>"
      ]
    },
    {
      "cell_type": "markdown",
      "source": [
        "Quiz 1 \n",
        "\n",
        "คำนวณเวลาเป็นความต่างของเวลาเป็นวินาทีของช่วงเวลาต่อไปนี้โดยใช้คำสั่ง split() ช่วย และ print ออกมาให้สวยงาม\n",
        "\n",
        "* 09:11:50 - 12:30:15\n",
        "* 13:41:07 - 20:00:18\n",
        "* 21:30:15 - 00:00:00\n",
        "* 00:00:00 - 23:59:59\n",
        "\n",
        "\n",
        "\n",
        "\n",
        "\n"
      ],
      "metadata": {
        "id": "FKKg2s03yfKC"
      }
    },
    {
      "cell_type": "code",
      "execution_count": 27,
      "metadata": {
        "id": "JHgL5URByL6e",
        "colab": {
          "base_uri": "https://localhost:8080/"
        },
        "outputId": "f4b32659-ca91-44d4-b8a5-ffddff715c88"
      },
      "outputs": [
        {
          "output_type": "stream",
          "name": "stdout",
          "text": [
            "['09', '11', '50']\n",
            "['12', '30', '15']\n",
            "09:11:50- 12:30:15 มีเวลาต่างกันอยู่ 11905 วินาที\n"
          ]
        }
      ],
      "source": [
        "a1 = '09:11:50' \n",
        "sp_a1 = a1.split(':')\n",
        "print(sp_a1)\n",
        "ans1 = (int(sp_a1[0])*60*60) + (int(sp_a1[1])*60) + int(sp_a1[2])\n",
        "a2 = '12:30:15'\n",
        "sp_a2 = a2.split(':')\n",
        "print(sp_a2)\n",
        "ans2 = (int(sp_a2[0])*60*60) + (int(sp_a2[1])*60) + int(sp_a2[2])\n",
        "print(f'{a1}- {a2} มีเวลาต่างกันอยู่ {ans2-ans1} วินาที')"
      ]
    },
    {
      "cell_type": "code",
      "source": [
        "a1 = '13:41:07' \n",
        "sp_a1 = a1.split(':')\n",
        "print(sp_a1)\n",
        "ans1 = (int(sp_a1[0])*60*60) + (int(sp_a1[1])*60) + int(sp_a1[2])\n",
        "a2 = '20:00:18'\n",
        "sp_a2 = a2.split(':')\n",
        "print(sp_a2)\n",
        "ans2 = (int(sp_a2[0])*60*60) + (int(sp_a2[1])*60) + int(sp_a2[2])\n",
        "print(f'{a1}- {a2} มีเวลาต่างกันอยู่ {ans2-ans1} วินาที')"
      ],
      "metadata": {
        "colab": {
          "base_uri": "https://localhost:8080/"
        },
        "id": "AHaKZs417g9N",
        "outputId": "be97cd7c-ac3a-44a6-d142-d52dbd1f0783"
      },
      "execution_count": 26,
      "outputs": [
        {
          "output_type": "stream",
          "name": "stdout",
          "text": [
            "['13', '41', '07']\n",
            "['20', '00', '18']\n",
            "13:41:07- 20:00:18 มีเวลาต่างกันอยู่ 22751 วินาที\n"
          ]
        }
      ]
    },
    {
      "cell_type": "code",
      "source": [
        "a1= '21:30:15' \n",
        "sp_a1 = a1.split(':')\n",
        "print(sp_a1)\n",
        "ans1 = (int(sp_a1[0])*60*60) + (int(sp_a1[1])*60) + int(sp_a1[2])\n",
        "a2 = '24:00:00'\n",
        "sp_a2 = a2.split(':')\n",
        "print(sp_a2)\n",
        "ans2 = (int(sp_a2[0])*60*60) + (int(sp_a2[1])*60) + int(sp_a2[2])\n",
        "print(f'{a1}- {a2} มีเวลาต่างกันอยู่ {ans2-ans1} วินาที')"
      ],
      "metadata": {
        "colab": {
          "base_uri": "https://localhost:8080/"
        },
        "id": "KEtxHwDS8lpC",
        "outputId": "67791c23-8d54-4f8d-f955-29cd98ab25a4"
      },
      "execution_count": 25,
      "outputs": [
        {
          "output_type": "stream",
          "name": "stdout",
          "text": [
            "['21', '30', '15']\n",
            "['24', '00', '00']\n",
            "21:30:15- 24:00:00 มีเวลาต่างกันอยู่ 8985 วินาที\n"
          ]
        }
      ]
    },
    {
      "cell_type": "code",
      "source": [
        "a1 = '00:00:00' \n",
        "sp_a1 = a1.split(':')\n",
        "print(sp_a1)\n",
        "ans1 = (int(sp_a1[0])*60*60) + (int(sp_a1[1])*60) + int(sp_a1[2])\n",
        "a2 = '23:59:59'\n",
        "sp_a2 = a2.split(':')\n",
        "print(sp_a2)\n",
        "ans2 = (int(sp_a2[0])*60*60) + (int(sp_a2[1])*60) + int(sp_a2[2])\n",
        "print(f'{a1}- {a2} มีเวลาต่างกันอยู่ {ans2-ans1} วินาที')"
      ],
      "metadata": {
        "id": "Ad0lR-iAPx6-",
        "outputId": "8e3a359f-b068-49ac-ad58-52e5708bd3f1",
        "colab": {
          "base_uri": "https://localhost:8080/"
        }
      },
      "execution_count": 24,
      "outputs": [
        {
          "output_type": "stream",
          "name": "stdout",
          "text": [
            "['00', '00', '00']\n",
            "['23', '59', '59']\n",
            "00:00:00- 23:59:59 มีเวลาต่างกันอยู่ 86399 วินาที\n"
          ]
        }
      ]
    }
  ]
}