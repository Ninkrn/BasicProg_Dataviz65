{
  "nbformat": 4,
  "nbformat_minor": 0,
  "metadata": {
    "colab": {
      "provenance": [],
      "toc_visible": true,
      "authorship_tag": "ABX9TyMxUs3LCj4nJEFgpSJXemn+",
      "include_colab_link": true
    },
    "kernelspec": {
      "name": "python3",
      "display_name": "Python 3"
    },
    "language_info": {
      "name": "python"
    }
  },
  "cells": [
    {
      "cell_type": "markdown",
      "metadata": {
        "id": "view-in-github",
        "colab_type": "text"
      },
      "source": [
        "<a href=\"https://colab.research.google.com/github/Ninkrn/BasicProg_Dataviz65/blob/main/Project_Final.ipynb\" target=\"_parent\"><img src=\"https://colab.research.google.com/assets/colab-badge.svg\" alt=\"Open In Colab\"/></a>"
      ]
    },
    {
      "cell_type": "code",
      "execution_count": 1,
      "metadata": {
        "colab": {
          "base_uri": "https://localhost:8080/"
        },
        "id": "K36jSnwWN2iM",
        "outputId": "0fb98cf3-f521-4a0e-8434-cac4a8345082"
      },
      "outputs": [
        {
          "output_type": "stream",
          "name": "stdout",
          "text": [
            "Mounted at /content/gdrive\n"
          ]
        }
      ],
      "source": [
        "#เชื่อม google drive \n",
        "from google.colab import drive \n",
        "drive.mount('/content/gdrive')"
      ]
    },
    {
      "cell_type": "code",
      "source": [
        "#เข้าไป path ใน google drive\n",
        "import os\n",
        "os.chdir('/content/gdrive/MyDrive/BPDV65/')\n",
        "\n",
        "!pwd #เช็ค paht ที่กำลังทำงานอยู่"
      ],
      "metadata": {
        "colab": {
          "base_uri": "https://localhost:8080/"
        },
        "id": "-TU0xAgyOCDW",
        "outputId": "b2a01008-79e3-4f6b-ba86-06d82b5eba4d"
      },
      "execution_count": 2,
      "outputs": [
        {
          "output_type": "stream",
          "name": "stdout",
          "text": [
            "/content/gdrive/MyDrive/BPDV65\n"
          ]
        }
      ]
    },
    {
      "cell_type": "code",
      "source": [
        "!ls"
      ],
      "metadata": {
        "colab": {
          "base_uri": "https://localhost:8080/"
        },
        "id": "R5fZuKhtSgE-",
        "outputId": "a4e2db28-9f98-4f08-dcf0-ea989228d474"
      },
      "execution_count": 3,
      "outputs": [
        {
          "output_type": "stream",
          "name": "stdout",
          "text": [
            " iris.txt\t\t\t   opendata_train_line.csv\n",
            " myunit.csv\t\t\t   opendata_train_line.gsheet\n",
            " myunit.xlsx\t\t\t   opendata_train_station.csv\n",
            "'opendata_eating_score (1).csv'    opendata_train_station.gsheet\n",
            " opendata_eating_score_clean.csv   opendata_unittype_clean.csv\n",
            " opendata_eating_score.csv\t   opendata_unittype.csv\n",
            " opendata_living_score_clean.csv   opendata_unittype.gsheet\n",
            " opendata_living_score.csv\t   opendata_volume_listing_rent.csv\n",
            " opendata_project_clean.csv\t   Residental_clean.csv\n",
            " opendata_project.csv\t\t   Residental_clean.gsheet\n",
            " opendata_project.gsheet\t   thai.json\n"
          ]
        }
      ]
    },
    {
      "cell_type": "markdown",
      "source": [
        "# Data Cleaning"
      ],
      "metadata": {
        "id": "W2Gp_QIDy7kq"
      }
    },
    {
      "cell_type": "markdown",
      "source": [
        "##opendata_project table"
      ],
      "metadata": {
        "id": "mHY1BPUfwvbn"
      }
    },
    {
      "cell_type": "code",
      "source": [
        "#open CSV file \n",
        "import pandas as pd"
      ],
      "metadata": {
        "id": "Cb335OWnSr58"
      },
      "execution_count": 4,
      "outputs": []
    },
    {
      "cell_type": "code",
      "source": [
        "opendata_project = pd.read_csv('opendata_project.csv')\n",
        "print(opendata_project.shape) # shown nomber of (row, column)\n",
        "opendata_project.head(3)\n",
        "#project_id=เป็นkeyของfile ,propertytype_id="
      ],
      "metadata": {
        "colab": {
          "base_uri": "https://localhost:8080/",
          "height": 376
        },
        "id": "G9024gqYSzOw",
        "outputId": "cbf472bd-5bd2-46c2-e066-e701a3cc485f"
      },
      "execution_count": 5,
      "outputs": [
        {
          "output_type": "stream",
          "name": "stdout",
          "text": [
            "(23434, 45)\n"
          ]
        },
        {
          "output_type": "execute_result",
          "data": {
            "text/plain": [
              "   row_number                project_id                             name_en  \\\n",
              "0      7880.0  5ee08d64dda791001299b2a6  Winning Residence Sukhumvit Praksa   \n",
              "1     16689.0             project_11326                    Gift Condominium   \n",
              "2       290.0  62739c4089233e001362b001    Sanrak 9 Sukprayoon Nong Krathum   \n",
              "\n",
              "                              name_th propertytype_id propertytype_name_en  \\\n",
              "0  วินนิ่ง เรสซิเดนท์ สุขุมวิท แพรกษา               1       Detached House   \n",
              "1                 กิ๊ฟท์ คอนโดมิเนียม               2                Condo   \n",
              "2      แสนรัก 9 ศุขประยูร หนองกระทุ่ม               3             Townhome   \n",
              "\n",
              "  propertytype_name_th price_min     developer_id  \\\n",
              "0                 บ้าน   3790000  developer_10678   \n",
              "1                คอนโด   1100000   developer_7319   \n",
              "2             ทาวน์โฮม         0  developer_10510   \n",
              "\n",
              "              developer_name_en  ... facility_meeting  facility_park  \\\n",
              "0  Winning Asset Plus Co., Ltd.  ...              NaN            NaN   \n",
              "1      Gift Asset Land Co.,Ltd.  ...              NaN            1.0   \n",
              "2                           NaN  ...              NaN            NaN   \n",
              "\n",
              "   facility_playground facility_pool facility_security      date_created  \\\n",
              "0                  NaN           1.0               1.0   10/6/2020 14:36   \n",
              "1                  NaN           1.0               1.0  30/10/2017 15:38   \n",
              "2                  NaN           NaN               NaN    5/5/2022 16:43   \n",
              "\n",
              "     date_finish     date_updated  source  \\\n",
              "0            NaN  4/12/2020 10:32  baania   \n",
              "1  1/1/2013 7:00  4/12/2020 10:49  baania   \n",
              "2            NaN   5/5/2022 17:30  baania   \n",
              "\n",
              "                                         url_project  \n",
              "0  https://baania.com/th/project/วินนิ่ง-เรสซิเดน...  \n",
              "1  https://baania.com/th/project/กิ๊ฟท์-คอนโดมิเน...  \n",
              "2  https://baania.com/th/project/แสนรัก-9-ศุขประย...  \n",
              "\n",
              "[3 rows x 45 columns]"
            ],
            "text/html": [
              "\n",
              "  <div id=\"df-63188283-92e2-4b7f-9097-3473721087d5\">\n",
              "    <div class=\"colab-df-container\">\n",
              "      <div>\n",
              "<style scoped>\n",
              "    .dataframe tbody tr th:only-of-type {\n",
              "        vertical-align: middle;\n",
              "    }\n",
              "\n",
              "    .dataframe tbody tr th {\n",
              "        vertical-align: top;\n",
              "    }\n",
              "\n",
              "    .dataframe thead th {\n",
              "        text-align: right;\n",
              "    }\n",
              "</style>\n",
              "<table border=\"1\" class=\"dataframe\">\n",
              "  <thead>\n",
              "    <tr style=\"text-align: right;\">\n",
              "      <th></th>\n",
              "      <th>row_number</th>\n",
              "      <th>project_id</th>\n",
              "      <th>name_en</th>\n",
              "      <th>name_th</th>\n",
              "      <th>propertytype_id</th>\n",
              "      <th>propertytype_name_en</th>\n",
              "      <th>propertytype_name_th</th>\n",
              "      <th>price_min</th>\n",
              "      <th>developer_id</th>\n",
              "      <th>developer_name_en</th>\n",
              "      <th>...</th>\n",
              "      <th>facility_meeting</th>\n",
              "      <th>facility_park</th>\n",
              "      <th>facility_playground</th>\n",
              "      <th>facility_pool</th>\n",
              "      <th>facility_security</th>\n",
              "      <th>date_created</th>\n",
              "      <th>date_finish</th>\n",
              "      <th>date_updated</th>\n",
              "      <th>source</th>\n",
              "      <th>url_project</th>\n",
              "    </tr>\n",
              "  </thead>\n",
              "  <tbody>\n",
              "    <tr>\n",
              "      <th>0</th>\n",
              "      <td>7880.0</td>\n",
              "      <td>5ee08d64dda791001299b2a6</td>\n",
              "      <td>Winning Residence Sukhumvit Praksa</td>\n",
              "      <td>วินนิ่ง เรสซิเดนท์ สุขุมวิท แพรกษา</td>\n",
              "      <td>1</td>\n",
              "      <td>Detached House</td>\n",
              "      <td>บ้าน</td>\n",
              "      <td>3790000</td>\n",
              "      <td>developer_10678</td>\n",
              "      <td>Winning Asset Plus Co., Ltd.</td>\n",
              "      <td>...</td>\n",
              "      <td>NaN</td>\n",
              "      <td>NaN</td>\n",
              "      <td>NaN</td>\n",
              "      <td>1.0</td>\n",
              "      <td>1.0</td>\n",
              "      <td>10/6/2020 14:36</td>\n",
              "      <td>NaN</td>\n",
              "      <td>4/12/2020 10:32</td>\n",
              "      <td>baania</td>\n",
              "      <td>https://baania.com/th/project/วินนิ่ง-เรสซิเดน...</td>\n",
              "    </tr>\n",
              "    <tr>\n",
              "      <th>1</th>\n",
              "      <td>16689.0</td>\n",
              "      <td>project_11326</td>\n",
              "      <td>Gift Condominium</td>\n",
              "      <td>กิ๊ฟท์ คอนโดมิเนียม</td>\n",
              "      <td>2</td>\n",
              "      <td>Condo</td>\n",
              "      <td>คอนโด</td>\n",
              "      <td>1100000</td>\n",
              "      <td>developer_7319</td>\n",
              "      <td>Gift Asset Land Co.,Ltd.</td>\n",
              "      <td>...</td>\n",
              "      <td>NaN</td>\n",
              "      <td>1.0</td>\n",
              "      <td>NaN</td>\n",
              "      <td>1.0</td>\n",
              "      <td>1.0</td>\n",
              "      <td>30/10/2017 15:38</td>\n",
              "      <td>1/1/2013 7:00</td>\n",
              "      <td>4/12/2020 10:49</td>\n",
              "      <td>baania</td>\n",
              "      <td>https://baania.com/th/project/กิ๊ฟท์-คอนโดมิเน...</td>\n",
              "    </tr>\n",
              "    <tr>\n",
              "      <th>2</th>\n",
              "      <td>290.0</td>\n",
              "      <td>62739c4089233e001362b001</td>\n",
              "      <td>Sanrak 9 Sukprayoon Nong Krathum</td>\n",
              "      <td>แสนรัก 9 ศุขประยูร หนองกระทุ่ม</td>\n",
              "      <td>3</td>\n",
              "      <td>Townhome</td>\n",
              "      <td>ทาวน์โฮม</td>\n",
              "      <td>0</td>\n",
              "      <td>developer_10510</td>\n",
              "      <td>NaN</td>\n",
              "      <td>...</td>\n",
              "      <td>NaN</td>\n",
              "      <td>NaN</td>\n",
              "      <td>NaN</td>\n",
              "      <td>NaN</td>\n",
              "      <td>NaN</td>\n",
              "      <td>5/5/2022 16:43</td>\n",
              "      <td>NaN</td>\n",
              "      <td>5/5/2022 17:30</td>\n",
              "      <td>baania</td>\n",
              "      <td>https://baania.com/th/project/แสนรัก-9-ศุขประย...</td>\n",
              "    </tr>\n",
              "  </tbody>\n",
              "</table>\n",
              "<p>3 rows × 45 columns</p>\n",
              "</div>\n",
              "      <button class=\"colab-df-convert\" onclick=\"convertToInteractive('df-63188283-92e2-4b7f-9097-3473721087d5')\"\n",
              "              title=\"Convert this dataframe to an interactive table.\"\n",
              "              style=\"display:none;\">\n",
              "        \n",
              "  <svg xmlns=\"http://www.w3.org/2000/svg\" height=\"24px\"viewBox=\"0 0 24 24\"\n",
              "       width=\"24px\">\n",
              "    <path d=\"M0 0h24v24H0V0z\" fill=\"none\"/>\n",
              "    <path d=\"M18.56 5.44l.94 2.06.94-2.06 2.06-.94-2.06-.94-.94-2.06-.94 2.06-2.06.94zm-11 1L8.5 8.5l.94-2.06 2.06-.94-2.06-.94L8.5 2.5l-.94 2.06-2.06.94zm10 10l.94 2.06.94-2.06 2.06-.94-2.06-.94-.94-2.06-.94 2.06-2.06.94z\"/><path d=\"M17.41 7.96l-1.37-1.37c-.4-.4-.92-.59-1.43-.59-.52 0-1.04.2-1.43.59L10.3 9.45l-7.72 7.72c-.78.78-.78 2.05 0 2.83L4 21.41c.39.39.9.59 1.41.59.51 0 1.02-.2 1.41-.59l7.78-7.78 2.81-2.81c.8-.78.8-2.07 0-2.86zM5.41 20L4 18.59l7.72-7.72 1.47 1.35L5.41 20z\"/>\n",
              "  </svg>\n",
              "      </button>\n",
              "      \n",
              "  <style>\n",
              "    .colab-df-container {\n",
              "      display:flex;\n",
              "      flex-wrap:wrap;\n",
              "      gap: 12px;\n",
              "    }\n",
              "\n",
              "    .colab-df-convert {\n",
              "      background-color: #E8F0FE;\n",
              "      border: none;\n",
              "      border-radius: 50%;\n",
              "      cursor: pointer;\n",
              "      display: none;\n",
              "      fill: #1967D2;\n",
              "      height: 32px;\n",
              "      padding: 0 0 0 0;\n",
              "      width: 32px;\n",
              "    }\n",
              "\n",
              "    .colab-df-convert:hover {\n",
              "      background-color: #E2EBFA;\n",
              "      box-shadow: 0px 1px 2px rgba(60, 64, 67, 0.3), 0px 1px 3px 1px rgba(60, 64, 67, 0.15);\n",
              "      fill: #174EA6;\n",
              "    }\n",
              "\n",
              "    [theme=dark] .colab-df-convert {\n",
              "      background-color: #3B4455;\n",
              "      fill: #D2E3FC;\n",
              "    }\n",
              "\n",
              "    [theme=dark] .colab-df-convert:hover {\n",
              "      background-color: #434B5C;\n",
              "      box-shadow: 0px 1px 3px 1px rgba(0, 0, 0, 0.15);\n",
              "      filter: drop-shadow(0px 1px 2px rgba(0, 0, 0, 0.3));\n",
              "      fill: #FFFFFF;\n",
              "    }\n",
              "  </style>\n",
              "\n",
              "      <script>\n",
              "        const buttonEl =\n",
              "          document.querySelector('#df-63188283-92e2-4b7f-9097-3473721087d5 button.colab-df-convert');\n",
              "        buttonEl.style.display =\n",
              "          google.colab.kernel.accessAllowed ? 'block' : 'none';\n",
              "\n",
              "        async function convertToInteractive(key) {\n",
              "          const element = document.querySelector('#df-63188283-92e2-4b7f-9097-3473721087d5');\n",
              "          const dataTable =\n",
              "            await google.colab.kernel.invokeFunction('convertToInteractive',\n",
              "                                                     [key], {});\n",
              "          if (!dataTable) return;\n",
              "\n",
              "          const docLinkHtml = 'Like what you see? Visit the ' +\n",
              "            '<a target=\"_blank\" href=https://colab.research.google.com/notebooks/data_table.ipynb>data table notebook</a>'\n",
              "            + ' to learn more about interactive tables.';\n",
              "          element.innerHTML = '';\n",
              "          dataTable['output_type'] = 'display_data';\n",
              "          await google.colab.output.renderOutput(dataTable, element);\n",
              "          const docLink = document.createElement('div');\n",
              "          docLink.innerHTML = docLinkHtml;\n",
              "          element.appendChild(docLink);\n",
              "        }\n",
              "      </script>\n",
              "    </div>\n",
              "  </div>\n",
              "  "
            ]
          },
          "metadata": {},
          "execution_count": 5
        }
      ]
    },
    {
      "cell_type": "code",
      "source": [
        "opendata_project.columns"
      ],
      "metadata": {
        "colab": {
          "base_uri": "https://localhost:8080/"
        },
        "id": "GgI_y2AWUNdw",
        "outputId": "11f02d39-e757-4c84-e79e-96af2e8375eb"
      },
      "execution_count": 6,
      "outputs": [
        {
          "output_type": "execute_result",
          "data": {
            "text/plain": [
              "Index(['row_number', 'project_id', 'name_en', 'name_th', 'propertytype_id',\n",
              "       'propertytype_name_en', 'propertytype_name_th', 'price_min',\n",
              "       'developer_id', 'developer_name_en', 'developer_name_th', 'latitude',\n",
              "       'longitude', 'neighborhood_id', 'neighborhood_name_en',\n",
              "       'neighborhood_name_th', 'subdistrict_id', 'subdistrict_name_en',\n",
              "       'subdistrict_name_th', 'district_id', 'district_name_en',\n",
              "       'district_name_th', 'province_id', 'province_name_en',\n",
              "       'province_name_th', 'zipcode', 'count_elevator',\n",
              "       'count_elevator_service', 'count_floor', 'count_parking', 'count_tower',\n",
              "       'count_unit', 'count_unittype', 'facility_clubhouse',\n",
              "       'facility_fitness', 'facility_meeting', 'facility_park',\n",
              "       'facility_playground', 'facility_pool', 'facility_security',\n",
              "       'date_created', 'date_finish', 'date_updated', 'source', 'url_project'],\n",
              "      dtype='object')"
            ]
          },
          "metadata": {},
          "execution_count": 6
        }
      ]
    },
    {
      "cell_type": "code",
      "source": [
        "opendata_project = opendata_project[['row_number','project_id',  'name_en',  'propertytype_id',   #เลือกคอลัมน์ที่จะใช้\n",
        "       'propertytype_name_en', 'price_min',\n",
        "       'developer_id', 'developer_name_en',  'latitude',\n",
        "       'longitude', 'neighborhood_id', 'neighborhood_name_en',\n",
        "        'subdistrict_id', 'subdistrict_name_en',\n",
        "       'subdistrict_name_th', 'district_id', 'district_name_en',\n",
        "       'district_name_th', 'province_id', 'province_name_en',\n",
        "       'province_name_th', 'zipcode', 'count_elevator',\n",
        "       'count_elevator_service', 'count_floor', 'count_parking', \n",
        "       'count_unit', 'count_unittype', 'facility_clubhouse',\n",
        "       'facility_fitness', 'facility_meeting', 'facility_park',\n",
        "       'facility_playground', 'facility_pool', 'facility_security']]"
      ],
      "metadata": {
        "id": "-hZzY_xzBtA6"
      },
      "execution_count": 7,
      "outputs": []
    },
    {
      "cell_type": "code",
      "source": [
        "opendata_project.head()"
      ],
      "metadata": {
        "colab": {
          "base_uri": "https://localhost:8080/",
          "height": 473
        },
        "id": "UOsYE6WkGhH8",
        "outputId": "d052d26b-ee4d-491e-c428-fa8e2166ac67"
      },
      "execution_count": 21,
      "outputs": [
        {
          "output_type": "execute_result",
          "data": {
            "text/plain": [
              "   row_number                project_id                             name_en  \\\n",
              "0      7880.0  5ee08d64dda791001299b2a6  Winning Residence Sukhumvit Praksa   \n",
              "1     16689.0             project_11326                    Gift Condominium   \n",
              "2       290.0  62739c4089233e001362b001    Sanrak 9 Sukprayoon Nong Krathum   \n",
              "3     20719.0              project_2010                     Baan Sansabai 1   \n",
              "4       199.0             project_16838          Baanpruksa Ratchapruek-345   \n",
              "\n",
              "  propertytype_id propertytype_name_en price_min     developer_id  \\\n",
              "0               1       Detached House   3790000  developer_10678   \n",
              "1               2                Condo   1100000   developer_7319   \n",
              "2               3             Townhome         0  developer_10510   \n",
              "3               1       Detached House         0  developer_10510   \n",
              "4               3             Townhome   1930000   developer_1026   \n",
              "\n",
              "              developer_name_en   latitude   longitude  ... count_parking  \\\n",
              "0  Winning Asset Plus Co., Ltd.  13.570530  100.669356  ...           NaN   \n",
              "1      Gift Asset Land Co.,Ltd.  13.033814  101.080739  ...           NaN   \n",
              "2                           NaN  13.417402  101.090080  ...           NaN   \n",
              "3                           NaN  15.038042  102.143837  ...           NaN   \n",
              "4  Preuksa Real Estate Co.,Ltd.  13.965246  100.483435  ...           NaN   \n",
              "\n",
              "  count_unit  count_unittype facility_clubhouse facility_fitness  \\\n",
              "0        NaN             NaN                1.0              1.0   \n",
              "1       77.0             2.0                NaN              NaN   \n",
              "2        NaN             NaN                NaN              NaN   \n",
              "3        NaN             1.0                NaN              NaN   \n",
              "4      485.0             1.0                1.0              1.0   \n",
              "\n",
              "   facility_meeting facility_park facility_playground  facility_pool  \\\n",
              "0               NaN           NaN                 NaN            1.0   \n",
              "1               NaN           1.0                 NaN            1.0   \n",
              "2               NaN           NaN                 NaN            NaN   \n",
              "3               NaN           NaN                 NaN            NaN   \n",
              "4               NaN           1.0                 NaN            1.0   \n",
              "\n",
              "  facility_security  \n",
              "0               1.0  \n",
              "1               1.0  \n",
              "2               NaN  \n",
              "3               NaN  \n",
              "4               1.0  \n",
              "\n",
              "[5 rows x 35 columns]"
            ],
            "text/html": [
              "\n",
              "  <div id=\"df-48b6cdc3-5f1b-40d1-a0a8-4f0cfa92d06b\">\n",
              "    <div class=\"colab-df-container\">\n",
              "      <div>\n",
              "<style scoped>\n",
              "    .dataframe tbody tr th:only-of-type {\n",
              "        vertical-align: middle;\n",
              "    }\n",
              "\n",
              "    .dataframe tbody tr th {\n",
              "        vertical-align: top;\n",
              "    }\n",
              "\n",
              "    .dataframe thead th {\n",
              "        text-align: right;\n",
              "    }\n",
              "</style>\n",
              "<table border=\"1\" class=\"dataframe\">\n",
              "  <thead>\n",
              "    <tr style=\"text-align: right;\">\n",
              "      <th></th>\n",
              "      <th>row_number</th>\n",
              "      <th>project_id</th>\n",
              "      <th>name_en</th>\n",
              "      <th>propertytype_id</th>\n",
              "      <th>propertytype_name_en</th>\n",
              "      <th>price_min</th>\n",
              "      <th>developer_id</th>\n",
              "      <th>developer_name_en</th>\n",
              "      <th>latitude</th>\n",
              "      <th>longitude</th>\n",
              "      <th>...</th>\n",
              "      <th>count_parking</th>\n",
              "      <th>count_unit</th>\n",
              "      <th>count_unittype</th>\n",
              "      <th>facility_clubhouse</th>\n",
              "      <th>facility_fitness</th>\n",
              "      <th>facility_meeting</th>\n",
              "      <th>facility_park</th>\n",
              "      <th>facility_playground</th>\n",
              "      <th>facility_pool</th>\n",
              "      <th>facility_security</th>\n",
              "    </tr>\n",
              "  </thead>\n",
              "  <tbody>\n",
              "    <tr>\n",
              "      <th>0</th>\n",
              "      <td>7880.0</td>\n",
              "      <td>5ee08d64dda791001299b2a6</td>\n",
              "      <td>Winning Residence Sukhumvit Praksa</td>\n",
              "      <td>1</td>\n",
              "      <td>Detached House</td>\n",
              "      <td>3790000</td>\n",
              "      <td>developer_10678</td>\n",
              "      <td>Winning Asset Plus Co., Ltd.</td>\n",
              "      <td>13.570530</td>\n",
              "      <td>100.669356</td>\n",
              "      <td>...</td>\n",
              "      <td>NaN</td>\n",
              "      <td>NaN</td>\n",
              "      <td>NaN</td>\n",
              "      <td>1.0</td>\n",
              "      <td>1.0</td>\n",
              "      <td>NaN</td>\n",
              "      <td>NaN</td>\n",
              "      <td>NaN</td>\n",
              "      <td>1.0</td>\n",
              "      <td>1.0</td>\n",
              "    </tr>\n",
              "    <tr>\n",
              "      <th>1</th>\n",
              "      <td>16689.0</td>\n",
              "      <td>project_11326</td>\n",
              "      <td>Gift Condominium</td>\n",
              "      <td>2</td>\n",
              "      <td>Condo</td>\n",
              "      <td>1100000</td>\n",
              "      <td>developer_7319</td>\n",
              "      <td>Gift Asset Land Co.,Ltd.</td>\n",
              "      <td>13.033814</td>\n",
              "      <td>101.080739</td>\n",
              "      <td>...</td>\n",
              "      <td>NaN</td>\n",
              "      <td>77.0</td>\n",
              "      <td>2.0</td>\n",
              "      <td>NaN</td>\n",
              "      <td>NaN</td>\n",
              "      <td>NaN</td>\n",
              "      <td>1.0</td>\n",
              "      <td>NaN</td>\n",
              "      <td>1.0</td>\n",
              "      <td>1.0</td>\n",
              "    </tr>\n",
              "    <tr>\n",
              "      <th>2</th>\n",
              "      <td>290.0</td>\n",
              "      <td>62739c4089233e001362b001</td>\n",
              "      <td>Sanrak 9 Sukprayoon Nong Krathum</td>\n",
              "      <td>3</td>\n",
              "      <td>Townhome</td>\n",
              "      <td>0</td>\n",
              "      <td>developer_10510</td>\n",
              "      <td>NaN</td>\n",
              "      <td>13.417402</td>\n",
              "      <td>101.090080</td>\n",
              "      <td>...</td>\n",
              "      <td>NaN</td>\n",
              "      <td>NaN</td>\n",
              "      <td>NaN</td>\n",
              "      <td>NaN</td>\n",
              "      <td>NaN</td>\n",
              "      <td>NaN</td>\n",
              "      <td>NaN</td>\n",
              "      <td>NaN</td>\n",
              "      <td>NaN</td>\n",
              "      <td>NaN</td>\n",
              "    </tr>\n",
              "    <tr>\n",
              "      <th>3</th>\n",
              "      <td>20719.0</td>\n",
              "      <td>project_2010</td>\n",
              "      <td>Baan Sansabai 1</td>\n",
              "      <td>1</td>\n",
              "      <td>Detached House</td>\n",
              "      <td>0</td>\n",
              "      <td>developer_10510</td>\n",
              "      <td>NaN</td>\n",
              "      <td>15.038042</td>\n",
              "      <td>102.143837</td>\n",
              "      <td>...</td>\n",
              "      <td>NaN</td>\n",
              "      <td>NaN</td>\n",
              "      <td>1.0</td>\n",
              "      <td>NaN</td>\n",
              "      <td>NaN</td>\n",
              "      <td>NaN</td>\n",
              "      <td>NaN</td>\n",
              "      <td>NaN</td>\n",
              "      <td>NaN</td>\n",
              "      <td>NaN</td>\n",
              "    </tr>\n",
              "    <tr>\n",
              "      <th>4</th>\n",
              "      <td>199.0</td>\n",
              "      <td>project_16838</td>\n",
              "      <td>Baanpruksa Ratchapruek-345</td>\n",
              "      <td>3</td>\n",
              "      <td>Townhome</td>\n",
              "      <td>1930000</td>\n",
              "      <td>developer_1026</td>\n",
              "      <td>Preuksa Real Estate Co.,Ltd.</td>\n",
              "      <td>13.965246</td>\n",
              "      <td>100.483435</td>\n",
              "      <td>...</td>\n",
              "      <td>NaN</td>\n",
              "      <td>485.0</td>\n",
              "      <td>1.0</td>\n",
              "      <td>1.0</td>\n",
              "      <td>1.0</td>\n",
              "      <td>NaN</td>\n",
              "      <td>1.0</td>\n",
              "      <td>NaN</td>\n",
              "      <td>1.0</td>\n",
              "      <td>1.0</td>\n",
              "    </tr>\n",
              "  </tbody>\n",
              "</table>\n",
              "<p>5 rows × 35 columns</p>\n",
              "</div>\n",
              "      <button class=\"colab-df-convert\" onclick=\"convertToInteractive('df-48b6cdc3-5f1b-40d1-a0a8-4f0cfa92d06b')\"\n",
              "              title=\"Convert this dataframe to an interactive table.\"\n",
              "              style=\"display:none;\">\n",
              "        \n",
              "  <svg xmlns=\"http://www.w3.org/2000/svg\" height=\"24px\"viewBox=\"0 0 24 24\"\n",
              "       width=\"24px\">\n",
              "    <path d=\"M0 0h24v24H0V0z\" fill=\"none\"/>\n",
              "    <path d=\"M18.56 5.44l.94 2.06.94-2.06 2.06-.94-2.06-.94-.94-2.06-.94 2.06-2.06.94zm-11 1L8.5 8.5l.94-2.06 2.06-.94-2.06-.94L8.5 2.5l-.94 2.06-2.06.94zm10 10l.94 2.06.94-2.06 2.06-.94-2.06-.94-.94-2.06-.94 2.06-2.06.94z\"/><path d=\"M17.41 7.96l-1.37-1.37c-.4-.4-.92-.59-1.43-.59-.52 0-1.04.2-1.43.59L10.3 9.45l-7.72 7.72c-.78.78-.78 2.05 0 2.83L4 21.41c.39.39.9.59 1.41.59.51 0 1.02-.2 1.41-.59l7.78-7.78 2.81-2.81c.8-.78.8-2.07 0-2.86zM5.41 20L4 18.59l7.72-7.72 1.47 1.35L5.41 20z\"/>\n",
              "  </svg>\n",
              "      </button>\n",
              "      \n",
              "  <style>\n",
              "    .colab-df-container {\n",
              "      display:flex;\n",
              "      flex-wrap:wrap;\n",
              "      gap: 12px;\n",
              "    }\n",
              "\n",
              "    .colab-df-convert {\n",
              "      background-color: #E8F0FE;\n",
              "      border: none;\n",
              "      border-radius: 50%;\n",
              "      cursor: pointer;\n",
              "      display: none;\n",
              "      fill: #1967D2;\n",
              "      height: 32px;\n",
              "      padding: 0 0 0 0;\n",
              "      width: 32px;\n",
              "    }\n",
              "\n",
              "    .colab-df-convert:hover {\n",
              "      background-color: #E2EBFA;\n",
              "      box-shadow: 0px 1px 2px rgba(60, 64, 67, 0.3), 0px 1px 3px 1px rgba(60, 64, 67, 0.15);\n",
              "      fill: #174EA6;\n",
              "    }\n",
              "\n",
              "    [theme=dark] .colab-df-convert {\n",
              "      background-color: #3B4455;\n",
              "      fill: #D2E3FC;\n",
              "    }\n",
              "\n",
              "    [theme=dark] .colab-df-convert:hover {\n",
              "      background-color: #434B5C;\n",
              "      box-shadow: 0px 1px 3px 1px rgba(0, 0, 0, 0.15);\n",
              "      filter: drop-shadow(0px 1px 2px rgba(0, 0, 0, 0.3));\n",
              "      fill: #FFFFFF;\n",
              "    }\n",
              "  </style>\n",
              "\n",
              "      <script>\n",
              "        const buttonEl =\n",
              "          document.querySelector('#df-48b6cdc3-5f1b-40d1-a0a8-4f0cfa92d06b button.colab-df-convert');\n",
              "        buttonEl.style.display =\n",
              "          google.colab.kernel.accessAllowed ? 'block' : 'none';\n",
              "\n",
              "        async function convertToInteractive(key) {\n",
              "          const element = document.querySelector('#df-48b6cdc3-5f1b-40d1-a0a8-4f0cfa92d06b');\n",
              "          const dataTable =\n",
              "            await google.colab.kernel.invokeFunction('convertToInteractive',\n",
              "                                                     [key], {});\n",
              "          if (!dataTable) return;\n",
              "\n",
              "          const docLinkHtml = 'Like what you see? Visit the ' +\n",
              "            '<a target=\"_blank\" href=https://colab.research.google.com/notebooks/data_table.ipynb>data table notebook</a>'\n",
              "            + ' to learn more about interactive tables.';\n",
              "          element.innerHTML = '';\n",
              "          dataTable['output_type'] = 'display_data';\n",
              "          await google.colab.output.renderOutput(dataTable, element);\n",
              "          const docLink = document.createElement('div');\n",
              "          docLink.innerHTML = docLinkHtml;\n",
              "          element.appendChild(docLink);\n",
              "        }\n",
              "      </script>\n",
              "    </div>\n",
              "  </div>\n",
              "  "
            ]
          },
          "metadata": {},
          "execution_count": 21
        }
      ]
    },
    {
      "cell_type": "markdown",
      "source": [
        "### Missing/Null Checking"
      ],
      "metadata": {
        "id": "gpD7XCntG5uE"
      }
    },
    {
      "cell_type": "code",
      "source": [
        "opendata_project.isnull().any()  #falseคือไม่มีค่าว่าง trueคือมีค่าว่าง"
      ],
      "metadata": {
        "colab": {
          "base_uri": "https://localhost:8080/"
        },
        "id": "__3rc87_Gr2s",
        "outputId": "e63c6547-3317-45f0-e397-873ab243d7ab"
      },
      "execution_count": 23,
      "outputs": [
        {
          "output_type": "execute_result",
          "data": {
            "text/plain": [
              "row_number                 True\n",
              "project_id                False\n",
              "name_en                   False\n",
              "propertytype_id           False\n",
              "propertytype_name_en      False\n",
              "price_min                  True\n",
              "developer_id              False\n",
              "developer_name_en          True\n",
              "latitude                  False\n",
              "longitude                  True\n",
              "neighborhood_id            True\n",
              "neighborhood_name_en       True\n",
              "subdistrict_id             True\n",
              "subdistrict_name_en        True\n",
              "subdistrict_name_th        True\n",
              "district_id                True\n",
              "district_name_en           True\n",
              "district_name_th           True\n",
              "province_id                True\n",
              "province_name_en           True\n",
              "province_name_th           True\n",
              "zipcode                    True\n",
              "count_elevator             True\n",
              "count_elevator_service     True\n",
              "count_floor                True\n",
              "count_parking              True\n",
              "count_unit                 True\n",
              "count_unittype             True\n",
              "facility_clubhouse         True\n",
              "facility_fitness           True\n",
              "facility_meeting           True\n",
              "facility_park              True\n",
              "facility_playground        True\n",
              "facility_pool              True\n",
              "facility_security          True\n",
              "dtype: bool"
            ]
          },
          "metadata": {},
          "execution_count": 23
        }
      ]
    },
    {
      "cell_type": "code",
      "source": [
        "opendata_project.dtypes"
      ],
      "metadata": {
        "colab": {
          "base_uri": "https://localhost:8080/"
        },
        "id": "FBGX60erGxbN",
        "outputId": "40efcf53-6202-4670-d522-96d1de2f1103"
      },
      "execution_count": 24,
      "outputs": [
        {
          "output_type": "execute_result",
          "data": {
            "text/plain": [
              "row_number                float64\n",
              "project_id                 object\n",
              "name_en                    object\n",
              "propertytype_id            object\n",
              "propertytype_name_en       object\n",
              "price_min                  object\n",
              "developer_id               object\n",
              "developer_name_en          object\n",
              "latitude                  float64\n",
              "longitude                 float64\n",
              "neighborhood_id            object\n",
              "neighborhood_name_en       object\n",
              "subdistrict_id            float64\n",
              "subdistrict_name_en        object\n",
              "subdistrict_name_th        object\n",
              "district_id               float64\n",
              "district_name_en           object\n",
              "district_name_th           object\n",
              "province_id               float64\n",
              "province_name_en           object\n",
              "province_name_th           object\n",
              "zipcode                   float64\n",
              "count_elevator             object\n",
              "count_elevator_service     object\n",
              "count_floor                object\n",
              "count_parking              object\n",
              "count_unit                float64\n",
              "count_unittype            float64\n",
              "facility_clubhouse        float64\n",
              "facility_fitness          float64\n",
              "facility_meeting          float64\n",
              "facility_park             float64\n",
              "facility_playground       float64\n",
              "facility_pool             float64\n",
              "facility_security         float64\n",
              "dtype: object"
            ]
          },
          "metadata": {},
          "execution_count": 24
        }
      ]
    },
    {
      "cell_type": "markdown",
      "source": [
        "####  dropna"
      ],
      "metadata": {
        "id": "KyIrr_RvG2LM"
      }
    },
    {
      "cell_type": "code",
      "source": [
        "# ' price_min ' ราคาต่ำสุดโครงการ\n",
        "print(len(opendata_project[opendata_project['price_min'].isnull()])) #we used dropna()\n",
        "opendata_project = opendata_project.dropna(subset=['price_min'])"
      ],
      "metadata": {
        "colab": {
          "base_uri": "https://localhost:8080/"
        },
        "id": "4sxGXpdAG0mF",
        "outputId": "d74e6acb-3218-42ac-bc19-065c3392fbcf"
      },
      "execution_count": 25,
      "outputs": [
        {
          "output_type": "stream",
          "name": "stdout",
          "text": [
            "117\n"
          ]
        }
      ]
    },
    {
      "cell_type": "code",
      "source": [
        "# ' longitude '\n",
        "opendata_project[opendata_project['longitude'].isnull()]  #มี5rowsที่หายไปจึงตัดออก"
      ],
      "metadata": {
        "colab": {
          "base_uri": "https://localhost:8080/",
          "height": 317
        },
        "id": "BYVF967yHjvk",
        "outputId": "e81254c5-a8b1-40f3-c43a-c2e91bd0be8d"
      },
      "execution_count": 26,
      "outputs": [
        {
          "output_type": "execute_result",
          "data": {
            "text/plain": [
              "       row_number project_id name_en propertytype_id propertytype_name_en  \\\n",
              "5839          NaN  ขนส่งปทุม    3656   บางโพธิ์เหนือ                 3647   \n",
              "8866          NaN  ขนส่งปทุม    3656   บางโพธิ์เหนือ                 3647   \n",
              "14130         NaN  ขนส่งปทุม    3611         บ้านฉาง                 3600   \n",
              "21895         NaN  ขนส่งปทุม    3634       คูบางหลวง                 3630   \n",
              "23353         NaN  ขนส่งปทุม    3656   บางโพธิ์เหนือ                 3647   \n",
              "\n",
              "           price_min developer_id developer_name_en  latitude  longitude  ...  \\\n",
              "5839          สามโคก         3599      Pathum Thani   12160.0        NaN  ...   \n",
              "8866          สามโคก         3599      Pathum Thani   12160.0        NaN  ...   \n",
              "14130  เมืองปทุมธานี         3599      Pathum Thani   12000.0        NaN  ...   \n",
              "21895    ลาดหลุมแก้ว         3599      Pathum Thani   12140.0        NaN  ...   \n",
              "23353         สามโคก         3599      Pathum Thani   12160.0        NaN  ...   \n",
              "\n",
              "      count_parking count_unit  count_unittype facility_clubhouse  \\\n",
              "5839         baania        NaN             NaN                NaN   \n",
              "8866         baania        NaN             NaN                NaN   \n",
              "14130        baania        NaN             NaN                NaN   \n",
              "21895        baania        NaN             NaN                NaN   \n",
              "23353        baania        NaN             NaN                NaN   \n",
              "\n",
              "      facility_fitness  facility_meeting facility_park facility_playground  \\\n",
              "5839               NaN               NaN           NaN                 NaN   \n",
              "8866               NaN               NaN           NaN                 NaN   \n",
              "14130              NaN               NaN           NaN                 NaN   \n",
              "21895              NaN               NaN           NaN                 NaN   \n",
              "23353              NaN               NaN           NaN                 NaN   \n",
              "\n",
              "       facility_pool facility_security  \n",
              "5839             NaN               NaN  \n",
              "8866             NaN               NaN  \n",
              "14130            NaN               NaN  \n",
              "21895            NaN               NaN  \n",
              "23353            NaN               NaN  \n",
              "\n",
              "[5 rows x 35 columns]"
            ],
            "text/html": [
              "\n",
              "  <div id=\"df-6af74488-6685-4e00-9404-341ae584c6f8\">\n",
              "    <div class=\"colab-df-container\">\n",
              "      <div>\n",
              "<style scoped>\n",
              "    .dataframe tbody tr th:only-of-type {\n",
              "        vertical-align: middle;\n",
              "    }\n",
              "\n",
              "    .dataframe tbody tr th {\n",
              "        vertical-align: top;\n",
              "    }\n",
              "\n",
              "    .dataframe thead th {\n",
              "        text-align: right;\n",
              "    }\n",
              "</style>\n",
              "<table border=\"1\" class=\"dataframe\">\n",
              "  <thead>\n",
              "    <tr style=\"text-align: right;\">\n",
              "      <th></th>\n",
              "      <th>row_number</th>\n",
              "      <th>project_id</th>\n",
              "      <th>name_en</th>\n",
              "      <th>propertytype_id</th>\n",
              "      <th>propertytype_name_en</th>\n",
              "      <th>price_min</th>\n",
              "      <th>developer_id</th>\n",
              "      <th>developer_name_en</th>\n",
              "      <th>latitude</th>\n",
              "      <th>longitude</th>\n",
              "      <th>...</th>\n",
              "      <th>count_parking</th>\n",
              "      <th>count_unit</th>\n",
              "      <th>count_unittype</th>\n",
              "      <th>facility_clubhouse</th>\n",
              "      <th>facility_fitness</th>\n",
              "      <th>facility_meeting</th>\n",
              "      <th>facility_park</th>\n",
              "      <th>facility_playground</th>\n",
              "      <th>facility_pool</th>\n",
              "      <th>facility_security</th>\n",
              "    </tr>\n",
              "  </thead>\n",
              "  <tbody>\n",
              "    <tr>\n",
              "      <th>5839</th>\n",
              "      <td>NaN</td>\n",
              "      <td>ขนส่งปทุม</td>\n",
              "      <td>3656</td>\n",
              "      <td>บางโพธิ์เหนือ</td>\n",
              "      <td>3647</td>\n",
              "      <td>สามโคก</td>\n",
              "      <td>3599</td>\n",
              "      <td>Pathum Thani</td>\n",
              "      <td>12160.0</td>\n",
              "      <td>NaN</td>\n",
              "      <td>...</td>\n",
              "      <td>baania</td>\n",
              "      <td>NaN</td>\n",
              "      <td>NaN</td>\n",
              "      <td>NaN</td>\n",
              "      <td>NaN</td>\n",
              "      <td>NaN</td>\n",
              "      <td>NaN</td>\n",
              "      <td>NaN</td>\n",
              "      <td>NaN</td>\n",
              "      <td>NaN</td>\n",
              "    </tr>\n",
              "    <tr>\n",
              "      <th>8866</th>\n",
              "      <td>NaN</td>\n",
              "      <td>ขนส่งปทุม</td>\n",
              "      <td>3656</td>\n",
              "      <td>บางโพธิ์เหนือ</td>\n",
              "      <td>3647</td>\n",
              "      <td>สามโคก</td>\n",
              "      <td>3599</td>\n",
              "      <td>Pathum Thani</td>\n",
              "      <td>12160.0</td>\n",
              "      <td>NaN</td>\n",
              "      <td>...</td>\n",
              "      <td>baania</td>\n",
              "      <td>NaN</td>\n",
              "      <td>NaN</td>\n",
              "      <td>NaN</td>\n",
              "      <td>NaN</td>\n",
              "      <td>NaN</td>\n",
              "      <td>NaN</td>\n",
              "      <td>NaN</td>\n",
              "      <td>NaN</td>\n",
              "      <td>NaN</td>\n",
              "    </tr>\n",
              "    <tr>\n",
              "      <th>14130</th>\n",
              "      <td>NaN</td>\n",
              "      <td>ขนส่งปทุม</td>\n",
              "      <td>3611</td>\n",
              "      <td>บ้านฉาง</td>\n",
              "      <td>3600</td>\n",
              "      <td>เมืองปทุมธานี</td>\n",
              "      <td>3599</td>\n",
              "      <td>Pathum Thani</td>\n",
              "      <td>12000.0</td>\n",
              "      <td>NaN</td>\n",
              "      <td>...</td>\n",
              "      <td>baania</td>\n",
              "      <td>NaN</td>\n",
              "      <td>NaN</td>\n",
              "      <td>NaN</td>\n",
              "      <td>NaN</td>\n",
              "      <td>NaN</td>\n",
              "      <td>NaN</td>\n",
              "      <td>NaN</td>\n",
              "      <td>NaN</td>\n",
              "      <td>NaN</td>\n",
              "    </tr>\n",
              "    <tr>\n",
              "      <th>21895</th>\n",
              "      <td>NaN</td>\n",
              "      <td>ขนส่งปทุม</td>\n",
              "      <td>3634</td>\n",
              "      <td>คูบางหลวง</td>\n",
              "      <td>3630</td>\n",
              "      <td>ลาดหลุมแก้ว</td>\n",
              "      <td>3599</td>\n",
              "      <td>Pathum Thani</td>\n",
              "      <td>12140.0</td>\n",
              "      <td>NaN</td>\n",
              "      <td>...</td>\n",
              "      <td>baania</td>\n",
              "      <td>NaN</td>\n",
              "      <td>NaN</td>\n",
              "      <td>NaN</td>\n",
              "      <td>NaN</td>\n",
              "      <td>NaN</td>\n",
              "      <td>NaN</td>\n",
              "      <td>NaN</td>\n",
              "      <td>NaN</td>\n",
              "      <td>NaN</td>\n",
              "    </tr>\n",
              "    <tr>\n",
              "      <th>23353</th>\n",
              "      <td>NaN</td>\n",
              "      <td>ขนส่งปทุม</td>\n",
              "      <td>3656</td>\n",
              "      <td>บางโพธิ์เหนือ</td>\n",
              "      <td>3647</td>\n",
              "      <td>สามโคก</td>\n",
              "      <td>3599</td>\n",
              "      <td>Pathum Thani</td>\n",
              "      <td>12160.0</td>\n",
              "      <td>NaN</td>\n",
              "      <td>...</td>\n",
              "      <td>baania</td>\n",
              "      <td>NaN</td>\n",
              "      <td>NaN</td>\n",
              "      <td>NaN</td>\n",
              "      <td>NaN</td>\n",
              "      <td>NaN</td>\n",
              "      <td>NaN</td>\n",
              "      <td>NaN</td>\n",
              "      <td>NaN</td>\n",
              "      <td>NaN</td>\n",
              "    </tr>\n",
              "  </tbody>\n",
              "</table>\n",
              "<p>5 rows × 35 columns</p>\n",
              "</div>\n",
              "      <button class=\"colab-df-convert\" onclick=\"convertToInteractive('df-6af74488-6685-4e00-9404-341ae584c6f8')\"\n",
              "              title=\"Convert this dataframe to an interactive table.\"\n",
              "              style=\"display:none;\">\n",
              "        \n",
              "  <svg xmlns=\"http://www.w3.org/2000/svg\" height=\"24px\"viewBox=\"0 0 24 24\"\n",
              "       width=\"24px\">\n",
              "    <path d=\"M0 0h24v24H0V0z\" fill=\"none\"/>\n",
              "    <path d=\"M18.56 5.44l.94 2.06.94-2.06 2.06-.94-2.06-.94-.94-2.06-.94 2.06-2.06.94zm-11 1L8.5 8.5l.94-2.06 2.06-.94-2.06-.94L8.5 2.5l-.94 2.06-2.06.94zm10 10l.94 2.06.94-2.06 2.06-.94-2.06-.94-.94-2.06-.94 2.06-2.06.94z\"/><path d=\"M17.41 7.96l-1.37-1.37c-.4-.4-.92-.59-1.43-.59-.52 0-1.04.2-1.43.59L10.3 9.45l-7.72 7.72c-.78.78-.78 2.05 0 2.83L4 21.41c.39.39.9.59 1.41.59.51 0 1.02-.2 1.41-.59l7.78-7.78 2.81-2.81c.8-.78.8-2.07 0-2.86zM5.41 20L4 18.59l7.72-7.72 1.47 1.35L5.41 20z\"/>\n",
              "  </svg>\n",
              "      </button>\n",
              "      \n",
              "  <style>\n",
              "    .colab-df-container {\n",
              "      display:flex;\n",
              "      flex-wrap:wrap;\n",
              "      gap: 12px;\n",
              "    }\n",
              "\n",
              "    .colab-df-convert {\n",
              "      background-color: #E8F0FE;\n",
              "      border: none;\n",
              "      border-radius: 50%;\n",
              "      cursor: pointer;\n",
              "      display: none;\n",
              "      fill: #1967D2;\n",
              "      height: 32px;\n",
              "      padding: 0 0 0 0;\n",
              "      width: 32px;\n",
              "    }\n",
              "\n",
              "    .colab-df-convert:hover {\n",
              "      background-color: #E2EBFA;\n",
              "      box-shadow: 0px 1px 2px rgba(60, 64, 67, 0.3), 0px 1px 3px 1px rgba(60, 64, 67, 0.15);\n",
              "      fill: #174EA6;\n",
              "    }\n",
              "\n",
              "    [theme=dark] .colab-df-convert {\n",
              "      background-color: #3B4455;\n",
              "      fill: #D2E3FC;\n",
              "    }\n",
              "\n",
              "    [theme=dark] .colab-df-convert:hover {\n",
              "      background-color: #434B5C;\n",
              "      box-shadow: 0px 1px 3px 1px rgba(0, 0, 0, 0.15);\n",
              "      filter: drop-shadow(0px 1px 2px rgba(0, 0, 0, 0.3));\n",
              "      fill: #FFFFFF;\n",
              "    }\n",
              "  </style>\n",
              "\n",
              "      <script>\n",
              "        const buttonEl =\n",
              "          document.querySelector('#df-6af74488-6685-4e00-9404-341ae584c6f8 button.colab-df-convert');\n",
              "        buttonEl.style.display =\n",
              "          google.colab.kernel.accessAllowed ? 'block' : 'none';\n",
              "\n",
              "        async function convertToInteractive(key) {\n",
              "          const element = document.querySelector('#df-6af74488-6685-4e00-9404-341ae584c6f8');\n",
              "          const dataTable =\n",
              "            await google.colab.kernel.invokeFunction('convertToInteractive',\n",
              "                                                     [key], {});\n",
              "          if (!dataTable) return;\n",
              "\n",
              "          const docLinkHtml = 'Like what you see? Visit the ' +\n",
              "            '<a target=\"_blank\" href=https://colab.research.google.com/notebooks/data_table.ipynb>data table notebook</a>'\n",
              "            + ' to learn more about interactive tables.';\n",
              "          element.innerHTML = '';\n",
              "          dataTable['output_type'] = 'display_data';\n",
              "          await google.colab.output.renderOutput(dataTable, element);\n",
              "          const docLink = document.createElement('div');\n",
              "          docLink.innerHTML = docLinkHtml;\n",
              "          element.appendChild(docLink);\n",
              "        }\n",
              "      </script>\n",
              "    </div>\n",
              "  </div>\n",
              "  "
            ]
          },
          "metadata": {},
          "execution_count": 26
        }
      ]
    },
    {
      "cell_type": "code",
      "source": [
        "opendata_project = opendata_project.dropna(subset=['longitude'])"
      ],
      "metadata": {
        "id": "soi2Y8Z9Hnsr"
      },
      "execution_count": 27,
      "outputs": []
    },
    {
      "cell_type": "code",
      "source": [
        "# 'subdistrict_id' รหัสตำบล\n",
        "print(len(opendata_project[opendata_project['subdistrict_id'].isnull()])) \n",
        "opendata_project = opendata_project.dropna(subset=['subdistrict_id'])"
      ],
      "metadata": {
        "colab": {
          "base_uri": "https://localhost:8080/"
        },
        "id": "nzmfzHR_HqOM",
        "outputId": "ce4f9a71-2096-465c-f69f-5f62165d3b95"
      },
      "execution_count": 28,
      "outputs": [
        {
          "output_type": "stream",
          "name": "stdout",
          "text": [
            "13\n"
          ]
        }
      ]
    },
    {
      "cell_type": "code",
      "source": [
        "# 'zipcode' รหัสไปรษณีย์\n",
        "print(len(opendata_project[opendata_project['zipcode'].isnull()])) \n",
        "opendata_project = opendata_project.dropna(subset=['zipcode'])"
      ],
      "metadata": {
        "colab": {
          "base_uri": "https://localhost:8080/"
        },
        "id": "V1DdTaYEHr_c",
        "outputId": "5635b553-0c49-477e-f566-16b0ffe8839d"
      },
      "execution_count": 29,
      "outputs": [
        {
          "output_type": "stream",
          "name": "stdout",
          "text": [
            "21\n"
          ]
        }
      ]
    },
    {
      "cell_type": "markdown",
      "source": [
        "####  fill Null with real world Knownlege"
      ],
      "metadata": {
        "id": "isqjzqxGHxLF"
      }
    },
    {
      "cell_type": "code",
      "source": [
        "#fill NA with Text เลือกfillnaเนื่องจากค่าว่างของข้อมูลมีค่อนข้างเยอะ\n",
        "opendata_project['developer_name_en'] = opendata_project['developer_name_en'].fillna('Unknown') #ชื่อบริษัท fillnaว่าunknown \n",
        "opendata_project['neighborhood_id'] = opendata_project['neighborhood_id'].fillna('Unknown') #รหัสย่าน \n",
        "opendata_project['neighborhood_name_en'] = opendata_project['neighborhood_name_en'].fillna('Unknown') "
      ],
      "metadata": {
        "id": "JxIGtRTlHyh8"
      },
      "execution_count": 30,
      "outputs": []
    },
    {
      "cell_type": "code",
      "source": [
        "# จำนวนลิฟต์และชั้น\n",
        "opendata_project[['count_floor', 'count_unit','count_unittype']]  = opendata_project[['count_floor', 'count_unit','count_unittype']].fillna(1) #จำนวนชั้นของตัวโครงการ, จำนวนยูนิตในโครงการ, จำนวนแบบ้านในโครงการ เพราะจำนวนชั้นเป็น0ไม่ได้อยู่แล้ว\n",
        "opendata_project[['count_elevator','count_floor','count_parking', 'count_elevator_service']] = opendata_project[['count_elevator','count_floor','count_parking', 'count_elevator_service']].fillna(0) #บ้านหลังๆนึงอาจจะไม่มีแอร์ก็ได้จึงใส่0\n",
        "# สิ่งอำนวยความสะดวก\n",
        "opendata_project[['facility_clubhouse','facility_fitness','facility_meeting','facility_park','facility_playground','facility_pool','facility_security']] = opendata_project[['facility_clubhouse','facility_fitness','facility_meeting','facility_park','facility_playground','facility_pool','facility_security']].fillna(0) #สิ่งอำนวยความสะดวกจะมีหรือไม่มีก็ได้จึงใส่0"
      ],
      "metadata": {
        "id": "NAA-TVLcH9Mk"
      },
      "execution_count": 31,
      "outputs": []
    },
    {
      "cell_type": "code",
      "source": [
        "opendata_project.isnull().any()"
      ],
      "metadata": {
        "colab": {
          "base_uri": "https://localhost:8080/"
        },
        "id": "1_pgBJv9H_aM",
        "outputId": "7d7e3094-2e34-449a-8f86-b951ae4d30cf"
      },
      "execution_count": 32,
      "outputs": [
        {
          "output_type": "execute_result",
          "data": {
            "text/plain": [
              "row_number                False\n",
              "project_id                False\n",
              "name_en                   False\n",
              "propertytype_id           False\n",
              "propertytype_name_en      False\n",
              "price_min                 False\n",
              "developer_id              False\n",
              "developer_name_en         False\n",
              "latitude                  False\n",
              "longitude                 False\n",
              "neighborhood_id           False\n",
              "neighborhood_name_en      False\n",
              "subdistrict_id            False\n",
              "subdistrict_name_en       False\n",
              "subdistrict_name_th       False\n",
              "district_id               False\n",
              "district_name_en          False\n",
              "district_name_th          False\n",
              "province_id               False\n",
              "province_name_en          False\n",
              "province_name_th          False\n",
              "zipcode                   False\n",
              "count_elevator            False\n",
              "count_elevator_service    False\n",
              "count_floor               False\n",
              "count_parking             False\n",
              "count_unit                False\n",
              "count_unittype            False\n",
              "facility_clubhouse        False\n",
              "facility_fitness          False\n",
              "facility_meeting          False\n",
              "facility_park             False\n",
              "facility_playground       False\n",
              "facility_pool             False\n",
              "facility_security         False\n",
              "dtype: bool"
            ]
          },
          "metadata": {},
          "execution_count": 32
        }
      ]
    },
    {
      "cell_type": "code",
      "source": [
        "# save data\n",
        "opendata_project.to_csv('opendata_project_clean_F1.csv', index=False)"
      ],
      "metadata": {
        "id": "c83HOWuuIEIN"
      },
      "execution_count": 33,
      "outputs": []
    },
    {
      "cell_type": "markdown",
      "source": [
        "##opendata_unittype table\n",
        "\n",
        "\n",
        "\n"
      ],
      "metadata": {
        "id": "vl3o-bb9zNzf"
      }
    },
    {
      "cell_type": "code",
      "source": [
        "opendata_unittype = pd.read_csv('opendata_unittype.csv')\n",
        "print(opendata_unittype.shape) \n",
        "opendata_unittype.head(3)"
      ],
      "metadata": {
        "colab": {
          "base_uri": "https://localhost:8080/",
          "height": 341
        },
        "id": "hAcdc8aCS1NE",
        "outputId": "623b83e8-9226-4164-90bc-fe6ee8f67a13"
      },
      "execution_count": 8,
      "outputs": [
        {
          "output_type": "stream",
          "name": "stdout",
          "text": [
            "(42625, 27)\n"
          ]
        },
        {
          "output_type": "execute_result",
          "data": {
            "text/plain": [
              "   row_number     unittype_id    project_id             name_th  \\\n",
              "0       27501   unittype_9565  project_2446           2 Bedroom   \n",
              "1       28777  unittype_10267  project_3543  บ้านแฝดสองชั้น Z-2   \n",
              "2       28865    unittype_471   project_143    1 Bedroom Type B   \n",
              "\n",
              "   propertytype_id propertytype_name_en propertytype_name_th  \\\n",
              "0                2                Condo                คอนโด   \n",
              "1            20000           Twin house              บ้านแฝด   \n",
              "2                2                Condo                คอนโด   \n",
              "\n",
              "   area_total_min_wa  area_usable_min  price_min  ...  count_room_guest  \\\n",
              "0                NaN             37.3  2500000.0  ...               1.0   \n",
              "1               40.0            150.0  2390000.0  ...               NaN   \n",
              "2                NaN             28.0        NaN  ...               NaN   \n",
              "\n",
              "   count_room_kitchen  count_room_living  count_room_maid  count_room_storage  \\\n",
              "0                 1.0                NaN              NaN                 NaN   \n",
              "1                 NaN                NaN              NaN                 NaN   \n",
              "2                 NaN                NaN              NaN                 NaN   \n",
              "\n",
              "   count_room_utility      date_created      date_updated  source  \\\n",
              "0                 NaN  19/11/2021 18:00  19/11/2021 17:44  baania   \n",
              "1                 NaN   27/1/2022 14:30   27/1/2022 14:22  baania   \n",
              "2                 NaN   14/1/2022 15:00   14/1/2022 14:40  baania   \n",
              "\n",
              "                                        url_unittype  \n",
              "0  https://baania.com/th/project/เฟ-ลิค-คอนโด-ลาด...  \n",
              "1  https://baania.com/th/project/เซน-บาย-ศิวาลัย-...  \n",
              "2  https://baania.com/th/project/วันพลัส-นายน์ทีน...  \n",
              "\n",
              "[3 rows x 27 columns]"
            ],
            "text/html": [
              "\n",
              "  <div id=\"df-bfa9a4d8-684e-4aeb-aeb0-e21c11f57594\">\n",
              "    <div class=\"colab-df-container\">\n",
              "      <div>\n",
              "<style scoped>\n",
              "    .dataframe tbody tr th:only-of-type {\n",
              "        vertical-align: middle;\n",
              "    }\n",
              "\n",
              "    .dataframe tbody tr th {\n",
              "        vertical-align: top;\n",
              "    }\n",
              "\n",
              "    .dataframe thead th {\n",
              "        text-align: right;\n",
              "    }\n",
              "</style>\n",
              "<table border=\"1\" class=\"dataframe\">\n",
              "  <thead>\n",
              "    <tr style=\"text-align: right;\">\n",
              "      <th></th>\n",
              "      <th>row_number</th>\n",
              "      <th>unittype_id</th>\n",
              "      <th>project_id</th>\n",
              "      <th>name_th</th>\n",
              "      <th>propertytype_id</th>\n",
              "      <th>propertytype_name_en</th>\n",
              "      <th>propertytype_name_th</th>\n",
              "      <th>area_total_min_wa</th>\n",
              "      <th>area_usable_min</th>\n",
              "      <th>price_min</th>\n",
              "      <th>...</th>\n",
              "      <th>count_room_guest</th>\n",
              "      <th>count_room_kitchen</th>\n",
              "      <th>count_room_living</th>\n",
              "      <th>count_room_maid</th>\n",
              "      <th>count_room_storage</th>\n",
              "      <th>count_room_utility</th>\n",
              "      <th>date_created</th>\n",
              "      <th>date_updated</th>\n",
              "      <th>source</th>\n",
              "      <th>url_unittype</th>\n",
              "    </tr>\n",
              "  </thead>\n",
              "  <tbody>\n",
              "    <tr>\n",
              "      <th>0</th>\n",
              "      <td>27501</td>\n",
              "      <td>unittype_9565</td>\n",
              "      <td>project_2446</td>\n",
              "      <td>2 Bedroom</td>\n",
              "      <td>2</td>\n",
              "      <td>Condo</td>\n",
              "      <td>คอนโด</td>\n",
              "      <td>NaN</td>\n",
              "      <td>37.3</td>\n",
              "      <td>2500000.0</td>\n",
              "      <td>...</td>\n",
              "      <td>1.0</td>\n",
              "      <td>1.0</td>\n",
              "      <td>NaN</td>\n",
              "      <td>NaN</td>\n",
              "      <td>NaN</td>\n",
              "      <td>NaN</td>\n",
              "      <td>19/11/2021 18:00</td>\n",
              "      <td>19/11/2021 17:44</td>\n",
              "      <td>baania</td>\n",
              "      <td>https://baania.com/th/project/เฟ-ลิค-คอนโด-ลาด...</td>\n",
              "    </tr>\n",
              "    <tr>\n",
              "      <th>1</th>\n",
              "      <td>28777</td>\n",
              "      <td>unittype_10267</td>\n",
              "      <td>project_3543</td>\n",
              "      <td>บ้านแฝดสองชั้น Z-2</td>\n",
              "      <td>20000</td>\n",
              "      <td>Twin house</td>\n",
              "      <td>บ้านแฝด</td>\n",
              "      <td>40.0</td>\n",
              "      <td>150.0</td>\n",
              "      <td>2390000.0</td>\n",
              "      <td>...</td>\n",
              "      <td>NaN</td>\n",
              "      <td>NaN</td>\n",
              "      <td>NaN</td>\n",
              "      <td>NaN</td>\n",
              "      <td>NaN</td>\n",
              "      <td>NaN</td>\n",
              "      <td>27/1/2022 14:30</td>\n",
              "      <td>27/1/2022 14:22</td>\n",
              "      <td>baania</td>\n",
              "      <td>https://baania.com/th/project/เซน-บาย-ศิวาลัย-...</td>\n",
              "    </tr>\n",
              "    <tr>\n",
              "      <th>2</th>\n",
              "      <td>28865</td>\n",
              "      <td>unittype_471</td>\n",
              "      <td>project_143</td>\n",
              "      <td>1 Bedroom Type B</td>\n",
              "      <td>2</td>\n",
              "      <td>Condo</td>\n",
              "      <td>คอนโด</td>\n",
              "      <td>NaN</td>\n",
              "      <td>28.0</td>\n",
              "      <td>NaN</td>\n",
              "      <td>...</td>\n",
              "      <td>NaN</td>\n",
              "      <td>NaN</td>\n",
              "      <td>NaN</td>\n",
              "      <td>NaN</td>\n",
              "      <td>NaN</td>\n",
              "      <td>NaN</td>\n",
              "      <td>14/1/2022 15:00</td>\n",
              "      <td>14/1/2022 14:40</td>\n",
              "      <td>baania</td>\n",
              "      <td>https://baania.com/th/project/วันพลัส-นายน์ทีน...</td>\n",
              "    </tr>\n",
              "  </tbody>\n",
              "</table>\n",
              "<p>3 rows × 27 columns</p>\n",
              "</div>\n",
              "      <button class=\"colab-df-convert\" onclick=\"convertToInteractive('df-bfa9a4d8-684e-4aeb-aeb0-e21c11f57594')\"\n",
              "              title=\"Convert this dataframe to an interactive table.\"\n",
              "              style=\"display:none;\">\n",
              "        \n",
              "  <svg xmlns=\"http://www.w3.org/2000/svg\" height=\"24px\"viewBox=\"0 0 24 24\"\n",
              "       width=\"24px\">\n",
              "    <path d=\"M0 0h24v24H0V0z\" fill=\"none\"/>\n",
              "    <path d=\"M18.56 5.44l.94 2.06.94-2.06 2.06-.94-2.06-.94-.94-2.06-.94 2.06-2.06.94zm-11 1L8.5 8.5l.94-2.06 2.06-.94-2.06-.94L8.5 2.5l-.94 2.06-2.06.94zm10 10l.94 2.06.94-2.06 2.06-.94-2.06-.94-.94-2.06-.94 2.06-2.06.94z\"/><path d=\"M17.41 7.96l-1.37-1.37c-.4-.4-.92-.59-1.43-.59-.52 0-1.04.2-1.43.59L10.3 9.45l-7.72 7.72c-.78.78-.78 2.05 0 2.83L4 21.41c.39.39.9.59 1.41.59.51 0 1.02-.2 1.41-.59l7.78-7.78 2.81-2.81c.8-.78.8-2.07 0-2.86zM5.41 20L4 18.59l7.72-7.72 1.47 1.35L5.41 20z\"/>\n",
              "  </svg>\n",
              "      </button>\n",
              "      \n",
              "  <style>\n",
              "    .colab-df-container {\n",
              "      display:flex;\n",
              "      flex-wrap:wrap;\n",
              "      gap: 12px;\n",
              "    }\n",
              "\n",
              "    .colab-df-convert {\n",
              "      background-color: #E8F0FE;\n",
              "      border: none;\n",
              "      border-radius: 50%;\n",
              "      cursor: pointer;\n",
              "      display: none;\n",
              "      fill: #1967D2;\n",
              "      height: 32px;\n",
              "      padding: 0 0 0 0;\n",
              "      width: 32px;\n",
              "    }\n",
              "\n",
              "    .colab-df-convert:hover {\n",
              "      background-color: #E2EBFA;\n",
              "      box-shadow: 0px 1px 2px rgba(60, 64, 67, 0.3), 0px 1px 3px 1px rgba(60, 64, 67, 0.15);\n",
              "      fill: #174EA6;\n",
              "    }\n",
              "\n",
              "    [theme=dark] .colab-df-convert {\n",
              "      background-color: #3B4455;\n",
              "      fill: #D2E3FC;\n",
              "    }\n",
              "\n",
              "    [theme=dark] .colab-df-convert:hover {\n",
              "      background-color: #434B5C;\n",
              "      box-shadow: 0px 1px 3px 1px rgba(0, 0, 0, 0.15);\n",
              "      filter: drop-shadow(0px 1px 2px rgba(0, 0, 0, 0.3));\n",
              "      fill: #FFFFFF;\n",
              "    }\n",
              "  </style>\n",
              "\n",
              "      <script>\n",
              "        const buttonEl =\n",
              "          document.querySelector('#df-bfa9a4d8-684e-4aeb-aeb0-e21c11f57594 button.colab-df-convert');\n",
              "        buttonEl.style.display =\n",
              "          google.colab.kernel.accessAllowed ? 'block' : 'none';\n",
              "\n",
              "        async function convertToInteractive(key) {\n",
              "          const element = document.querySelector('#df-bfa9a4d8-684e-4aeb-aeb0-e21c11f57594');\n",
              "          const dataTable =\n",
              "            await google.colab.kernel.invokeFunction('convertToInteractive',\n",
              "                                                     [key], {});\n",
              "          if (!dataTable) return;\n",
              "\n",
              "          const docLinkHtml = 'Like what you see? Visit the ' +\n",
              "            '<a target=\"_blank\" href=https://colab.research.google.com/notebooks/data_table.ipynb>data table notebook</a>'\n",
              "            + ' to learn more about interactive tables.';\n",
              "          element.innerHTML = '';\n",
              "          dataTable['output_type'] = 'display_data';\n",
              "          await google.colab.output.renderOutput(dataTable, element);\n",
              "          const docLink = document.createElement('div');\n",
              "          docLink.innerHTML = docLinkHtml;\n",
              "          element.appendChild(docLink);\n",
              "        }\n",
              "      </script>\n",
              "    </div>\n",
              "  </div>\n",
              "  "
            ]
          },
          "metadata": {},
          "execution_count": 8
        }
      ]
    },
    {
      "cell_type": "code",
      "source": [
        "opendata_unittype.columns"
      ],
      "metadata": {
        "colab": {
          "base_uri": "https://localhost:8080/"
        },
        "id": "x5XtD1VZUPSA",
        "outputId": "ca7eb6dd-371e-4030-f287-4534cbb5cec8"
      },
      "execution_count": 9,
      "outputs": [
        {
          "output_type": "execute_result",
          "data": {
            "text/plain": [
              "Index(['row_number', 'unittype_id', 'project_id', 'name_th', 'propertytype_id',\n",
              "       'propertytype_name_en', 'propertytype_name_th', 'area_total_min_wa',\n",
              "       'area_usable_min', 'price_min', 'count_airconditioner',\n",
              "       'count_elevator', 'count_floor_internal', 'count_parking',\n",
              "       'count_room_bath', 'count_room_bed', 'count_room_dinning',\n",
              "       'count_room_guest', 'count_room_kitchen', 'count_room_living',\n",
              "       'count_room_maid', 'count_room_storage', 'count_room_utility',\n",
              "       'date_created', 'date_updated', 'source', 'url_unittype'],\n",
              "      dtype='object')"
            ]
          },
          "metadata": {},
          "execution_count": 9
        }
      ]
    },
    {
      "cell_type": "code",
      "source": [
        "opendata_unittype = opendata_unittype[['row_number','unittype_id', 'project_id', 'name_th', 'propertytype_id',\n",
        "       'propertytype_name_en', 'propertytype_name_th', 'count_airconditioner',\n",
        "       'count_elevator', 'count_floor_internal', 'count_parking',\n",
        "       'count_room_bath', 'count_room_bed', 'count_room_dinning',\n",
        "       'count_room_guest', 'count_room_kitchen', 'count_room_living',\n",
        "       'count_room_maid', 'count_room_storage', 'count_room_utility']]\n",
        "opendata_unittype.head()"
      ],
      "metadata": {
        "colab": {
          "base_uri": "https://localhost:8080/",
          "height": 374
        },
        "id": "EzIovTMPIRWr",
        "outputId": "aac7edfc-2845-42c0-c56d-a4c6704b6ca7"
      },
      "execution_count": 34,
      "outputs": [
        {
          "output_type": "execute_result",
          "data": {
            "text/plain": [
              "   row_number     unittype_id    project_id             name_th  \\\n",
              "0       27501   unittype_9565  project_2446           2 Bedroom   \n",
              "1       28777  unittype_10267  project_3543  บ้านแฝดสองชั้น Z-2   \n",
              "2       28865    unittype_471   project_143    1 Bedroom Type B   \n",
              "3       24988  unittype_19506  project_7766    Studio Floor 1-2   \n",
              "4       38596  unittype_10290  project_3551                TH 3   \n",
              "\n",
              "   propertytype_id propertytype_name_en propertytype_name_th  \\\n",
              "0                2                Condo                คอนโด   \n",
              "1            20000           Twin house              บ้านแฝด   \n",
              "2                2                Condo                คอนโด   \n",
              "3                2                Condo                คอนโด   \n",
              "4                3             Townhome             ทาวน์โฮม   \n",
              "\n",
              "   count_airconditioner  count_elevator  count_floor_internal  count_parking  \\\n",
              "0                   NaN             NaN                   NaN            NaN   \n",
              "1                   NaN             NaN                   2.0            2.0   \n",
              "2                   NaN             NaN                   NaN            NaN   \n",
              "3                   NaN             NaN                   NaN            NaN   \n",
              "4                   NaN             NaN                   3.0            2.0   \n",
              "\n",
              "   count_room_bath  count_room_bed  count_room_dinning  count_room_guest  \\\n",
              "0              1.0             2.0                 1.0               1.0   \n",
              "1              3.0             3.0                 NaN               NaN   \n",
              "2              1.0             1.0                 NaN               NaN   \n",
              "3              1.0             0.0                 NaN               NaN   \n",
              "4              3.0             3.0                 1.0               1.0   \n",
              "\n",
              "   count_room_kitchen  count_room_living  count_room_maid  count_room_storage  \\\n",
              "0                 1.0                NaN              NaN                 NaN   \n",
              "1                 NaN                NaN              NaN                 NaN   \n",
              "2                 NaN                NaN              NaN                 NaN   \n",
              "3                 NaN                NaN              NaN                 NaN   \n",
              "4                 1.0                NaN              NaN                 2.0   \n",
              "\n",
              "   count_room_utility  \n",
              "0                 NaN  \n",
              "1                 NaN  \n",
              "2                 NaN  \n",
              "3                 NaN  \n",
              "4                 NaN  "
            ],
            "text/html": [
              "\n",
              "  <div id=\"df-0469aeef-d4b9-4ca7-93cb-21732473508c\">\n",
              "    <div class=\"colab-df-container\">\n",
              "      <div>\n",
              "<style scoped>\n",
              "    .dataframe tbody tr th:only-of-type {\n",
              "        vertical-align: middle;\n",
              "    }\n",
              "\n",
              "    .dataframe tbody tr th {\n",
              "        vertical-align: top;\n",
              "    }\n",
              "\n",
              "    .dataframe thead th {\n",
              "        text-align: right;\n",
              "    }\n",
              "</style>\n",
              "<table border=\"1\" class=\"dataframe\">\n",
              "  <thead>\n",
              "    <tr style=\"text-align: right;\">\n",
              "      <th></th>\n",
              "      <th>row_number</th>\n",
              "      <th>unittype_id</th>\n",
              "      <th>project_id</th>\n",
              "      <th>name_th</th>\n",
              "      <th>propertytype_id</th>\n",
              "      <th>propertytype_name_en</th>\n",
              "      <th>propertytype_name_th</th>\n",
              "      <th>count_airconditioner</th>\n",
              "      <th>count_elevator</th>\n",
              "      <th>count_floor_internal</th>\n",
              "      <th>count_parking</th>\n",
              "      <th>count_room_bath</th>\n",
              "      <th>count_room_bed</th>\n",
              "      <th>count_room_dinning</th>\n",
              "      <th>count_room_guest</th>\n",
              "      <th>count_room_kitchen</th>\n",
              "      <th>count_room_living</th>\n",
              "      <th>count_room_maid</th>\n",
              "      <th>count_room_storage</th>\n",
              "      <th>count_room_utility</th>\n",
              "    </tr>\n",
              "  </thead>\n",
              "  <tbody>\n",
              "    <tr>\n",
              "      <th>0</th>\n",
              "      <td>27501</td>\n",
              "      <td>unittype_9565</td>\n",
              "      <td>project_2446</td>\n",
              "      <td>2 Bedroom</td>\n",
              "      <td>2</td>\n",
              "      <td>Condo</td>\n",
              "      <td>คอนโด</td>\n",
              "      <td>NaN</td>\n",
              "      <td>NaN</td>\n",
              "      <td>NaN</td>\n",
              "      <td>NaN</td>\n",
              "      <td>1.0</td>\n",
              "      <td>2.0</td>\n",
              "      <td>1.0</td>\n",
              "      <td>1.0</td>\n",
              "      <td>1.0</td>\n",
              "      <td>NaN</td>\n",
              "      <td>NaN</td>\n",
              "      <td>NaN</td>\n",
              "      <td>NaN</td>\n",
              "    </tr>\n",
              "    <tr>\n",
              "      <th>1</th>\n",
              "      <td>28777</td>\n",
              "      <td>unittype_10267</td>\n",
              "      <td>project_3543</td>\n",
              "      <td>บ้านแฝดสองชั้น Z-2</td>\n",
              "      <td>20000</td>\n",
              "      <td>Twin house</td>\n",
              "      <td>บ้านแฝด</td>\n",
              "      <td>NaN</td>\n",
              "      <td>NaN</td>\n",
              "      <td>2.0</td>\n",
              "      <td>2.0</td>\n",
              "      <td>3.0</td>\n",
              "      <td>3.0</td>\n",
              "      <td>NaN</td>\n",
              "      <td>NaN</td>\n",
              "      <td>NaN</td>\n",
              "      <td>NaN</td>\n",
              "      <td>NaN</td>\n",
              "      <td>NaN</td>\n",
              "      <td>NaN</td>\n",
              "    </tr>\n",
              "    <tr>\n",
              "      <th>2</th>\n",
              "      <td>28865</td>\n",
              "      <td>unittype_471</td>\n",
              "      <td>project_143</td>\n",
              "      <td>1 Bedroom Type B</td>\n",
              "      <td>2</td>\n",
              "      <td>Condo</td>\n",
              "      <td>คอนโด</td>\n",
              "      <td>NaN</td>\n",
              "      <td>NaN</td>\n",
              "      <td>NaN</td>\n",
              "      <td>NaN</td>\n",
              "      <td>1.0</td>\n",
              "      <td>1.0</td>\n",
              "      <td>NaN</td>\n",
              "      <td>NaN</td>\n",
              "      <td>NaN</td>\n",
              "      <td>NaN</td>\n",
              "      <td>NaN</td>\n",
              "      <td>NaN</td>\n",
              "      <td>NaN</td>\n",
              "    </tr>\n",
              "    <tr>\n",
              "      <th>3</th>\n",
              "      <td>24988</td>\n",
              "      <td>unittype_19506</td>\n",
              "      <td>project_7766</td>\n",
              "      <td>Studio Floor 1-2</td>\n",
              "      <td>2</td>\n",
              "      <td>Condo</td>\n",
              "      <td>คอนโด</td>\n",
              "      <td>NaN</td>\n",
              "      <td>NaN</td>\n",
              "      <td>NaN</td>\n",
              "      <td>NaN</td>\n",
              "      <td>1.0</td>\n",
              "      <td>0.0</td>\n",
              "      <td>NaN</td>\n",
              "      <td>NaN</td>\n",
              "      <td>NaN</td>\n",
              "      <td>NaN</td>\n",
              "      <td>NaN</td>\n",
              "      <td>NaN</td>\n",
              "      <td>NaN</td>\n",
              "    </tr>\n",
              "    <tr>\n",
              "      <th>4</th>\n",
              "      <td>38596</td>\n",
              "      <td>unittype_10290</td>\n",
              "      <td>project_3551</td>\n",
              "      <td>TH 3</td>\n",
              "      <td>3</td>\n",
              "      <td>Townhome</td>\n",
              "      <td>ทาวน์โฮม</td>\n",
              "      <td>NaN</td>\n",
              "      <td>NaN</td>\n",
              "      <td>3.0</td>\n",
              "      <td>2.0</td>\n",
              "      <td>3.0</td>\n",
              "      <td>3.0</td>\n",
              "      <td>1.0</td>\n",
              "      <td>1.0</td>\n",
              "      <td>1.0</td>\n",
              "      <td>NaN</td>\n",
              "      <td>NaN</td>\n",
              "      <td>2.0</td>\n",
              "      <td>NaN</td>\n",
              "    </tr>\n",
              "  </tbody>\n",
              "</table>\n",
              "</div>\n",
              "      <button class=\"colab-df-convert\" onclick=\"convertToInteractive('df-0469aeef-d4b9-4ca7-93cb-21732473508c')\"\n",
              "              title=\"Convert this dataframe to an interactive table.\"\n",
              "              style=\"display:none;\">\n",
              "        \n",
              "  <svg xmlns=\"http://www.w3.org/2000/svg\" height=\"24px\"viewBox=\"0 0 24 24\"\n",
              "       width=\"24px\">\n",
              "    <path d=\"M0 0h24v24H0V0z\" fill=\"none\"/>\n",
              "    <path d=\"M18.56 5.44l.94 2.06.94-2.06 2.06-.94-2.06-.94-.94-2.06-.94 2.06-2.06.94zm-11 1L8.5 8.5l.94-2.06 2.06-.94-2.06-.94L8.5 2.5l-.94 2.06-2.06.94zm10 10l.94 2.06.94-2.06 2.06-.94-2.06-.94-.94-2.06-.94 2.06-2.06.94z\"/><path d=\"M17.41 7.96l-1.37-1.37c-.4-.4-.92-.59-1.43-.59-.52 0-1.04.2-1.43.59L10.3 9.45l-7.72 7.72c-.78.78-.78 2.05 0 2.83L4 21.41c.39.39.9.59 1.41.59.51 0 1.02-.2 1.41-.59l7.78-7.78 2.81-2.81c.8-.78.8-2.07 0-2.86zM5.41 20L4 18.59l7.72-7.72 1.47 1.35L5.41 20z\"/>\n",
              "  </svg>\n",
              "      </button>\n",
              "      \n",
              "  <style>\n",
              "    .colab-df-container {\n",
              "      display:flex;\n",
              "      flex-wrap:wrap;\n",
              "      gap: 12px;\n",
              "    }\n",
              "\n",
              "    .colab-df-convert {\n",
              "      background-color: #E8F0FE;\n",
              "      border: none;\n",
              "      border-radius: 50%;\n",
              "      cursor: pointer;\n",
              "      display: none;\n",
              "      fill: #1967D2;\n",
              "      height: 32px;\n",
              "      padding: 0 0 0 0;\n",
              "      width: 32px;\n",
              "    }\n",
              "\n",
              "    .colab-df-convert:hover {\n",
              "      background-color: #E2EBFA;\n",
              "      box-shadow: 0px 1px 2px rgba(60, 64, 67, 0.3), 0px 1px 3px 1px rgba(60, 64, 67, 0.15);\n",
              "      fill: #174EA6;\n",
              "    }\n",
              "\n",
              "    [theme=dark] .colab-df-convert {\n",
              "      background-color: #3B4455;\n",
              "      fill: #D2E3FC;\n",
              "    }\n",
              "\n",
              "    [theme=dark] .colab-df-convert:hover {\n",
              "      background-color: #434B5C;\n",
              "      box-shadow: 0px 1px 3px 1px rgba(0, 0, 0, 0.15);\n",
              "      filter: drop-shadow(0px 1px 2px rgba(0, 0, 0, 0.3));\n",
              "      fill: #FFFFFF;\n",
              "    }\n",
              "  </style>\n",
              "\n",
              "      <script>\n",
              "        const buttonEl =\n",
              "          document.querySelector('#df-0469aeef-d4b9-4ca7-93cb-21732473508c button.colab-df-convert');\n",
              "        buttonEl.style.display =\n",
              "          google.colab.kernel.accessAllowed ? 'block' : 'none';\n",
              "\n",
              "        async function convertToInteractive(key) {\n",
              "          const element = document.querySelector('#df-0469aeef-d4b9-4ca7-93cb-21732473508c');\n",
              "          const dataTable =\n",
              "            await google.colab.kernel.invokeFunction('convertToInteractive',\n",
              "                                                     [key], {});\n",
              "          if (!dataTable) return;\n",
              "\n",
              "          const docLinkHtml = 'Like what you see? Visit the ' +\n",
              "            '<a target=\"_blank\" href=https://colab.research.google.com/notebooks/data_table.ipynb>data table notebook</a>'\n",
              "            + ' to learn more about interactive tables.';\n",
              "          element.innerHTML = '';\n",
              "          dataTable['output_type'] = 'display_data';\n",
              "          await google.colab.output.renderOutput(dataTable, element);\n",
              "          const docLink = document.createElement('div');\n",
              "          docLink.innerHTML = docLinkHtml;\n",
              "          element.appendChild(docLink);\n",
              "        }\n",
              "      </script>\n",
              "    </div>\n",
              "  </div>\n",
              "  "
            ]
          },
          "metadata": {},
          "execution_count": 34
        }
      ]
    },
    {
      "cell_type": "markdown",
      "source": [
        "### Missing/Null Checking"
      ],
      "metadata": {
        "id": "TxxNBvUIIfT0"
      }
    },
    {
      "cell_type": "code",
      "source": [
        "opendata_unittype.isnull().any()"
      ],
      "metadata": {
        "colab": {
          "base_uri": "https://localhost:8080/"
        },
        "id": "KLW4iXQOIhrc",
        "outputId": "902c034c-1995-4726-c03d-05fe3583e712"
      },
      "execution_count": 35,
      "outputs": [
        {
          "output_type": "execute_result",
          "data": {
            "text/plain": [
              "row_number              False\n",
              "unittype_id             False\n",
              "project_id              False\n",
              "name_th                  True\n",
              "propertytype_id         False\n",
              "propertytype_name_en    False\n",
              "propertytype_name_th    False\n",
              "count_airconditioner     True\n",
              "count_elevator           True\n",
              "count_floor_internal     True\n",
              "count_parking            True\n",
              "count_room_bath          True\n",
              "count_room_bed           True\n",
              "count_room_dinning       True\n",
              "count_room_guest         True\n",
              "count_room_kitchen       True\n",
              "count_room_living        True\n",
              "count_room_maid          True\n",
              "count_room_storage       True\n",
              "count_room_utility       True\n",
              "dtype: bool"
            ]
          },
          "metadata": {},
          "execution_count": 35
        }
      ]
    },
    {
      "cell_type": "markdown",
      "source": [
        "####  dropna"
      ],
      "metadata": {
        "id": "EKDkiiwZImU8"
      }
    },
    {
      "cell_type": "code",
      "source": [
        "# # ' price_min ' ราคาต่ำสุดโครงการ\n",
        "# print(len(opendata_unittype[opendata_unittype['price_min'].isnull()])) #we used dropna()\n",
        "# opendata_unittype = opendata_unittype.dropna(subset=['price_min'])"
      ],
      "metadata": {
        "id": "U0tQ_ZwUInjM"
      },
      "execution_count": 36,
      "outputs": []
    },
    {
      "cell_type": "markdown",
      "source": [
        "####  fill Null with real world Knownlege"
      ],
      "metadata": {
        "id": "7aAZco8pIs0c"
      }
    },
    {
      "cell_type": "code",
      "source": [
        "#fill NA with Text\n",
        "opendata_unittype['name_th'] = opendata_unittype['name_th'].fillna('Unknown')"
      ],
      "metadata": {
        "id": "URGu99R-Iv3y"
      },
      "execution_count": 37,
      "outputs": []
    },
    {
      "cell_type": "code",
      "source": [
        "# จำนวนชั้นในบ้าน\n",
        "opendata_unittype[['count_floor_internal']]  = opendata_unittype[['count_floor_internal']].fillna(1) \n",
        "# จำนวนห้อง, จำนวนลิฟต์, จำนวนแอร์\n",
        "opendata_unittype[['count_airconditioner','count_elevator','count_parking','count_room_bath','count_room_bed','count_room_dinning','count_room_guest','count_room_kitchen','count_room_living','count_room_maid','count_room_storage','count_room_utility',]]  = opendata_unittype[['count_airconditioner','count_elevator','count_parking','count_room_bath','count_room_bed','count_room_dinning','count_room_guest','count_room_kitchen','count_room_living','count_room_maid','count_room_storage','count_room_utility',]].fillna(0) "
      ],
      "metadata": {
        "id": "qX93JjFSIy36"
      },
      "execution_count": 38,
      "outputs": []
    },
    {
      "cell_type": "code",
      "source": [
        "opendata_unittype.isnull().any()"
      ],
      "metadata": {
        "colab": {
          "base_uri": "https://localhost:8080/"
        },
        "id": "XJVVRl1NI2Qz",
        "outputId": "6e0e1f32-396b-40e9-d8dd-1ea4b8b47ab7"
      },
      "execution_count": 39,
      "outputs": [
        {
          "output_type": "execute_result",
          "data": {
            "text/plain": [
              "row_number              False\n",
              "unittype_id             False\n",
              "project_id              False\n",
              "name_th                 False\n",
              "propertytype_id         False\n",
              "propertytype_name_en    False\n",
              "propertytype_name_th    False\n",
              "count_airconditioner    False\n",
              "count_elevator          False\n",
              "count_floor_internal    False\n",
              "count_parking           False\n",
              "count_room_bath         False\n",
              "count_room_bed          False\n",
              "count_room_dinning      False\n",
              "count_room_guest        False\n",
              "count_room_kitchen      False\n",
              "count_room_living       False\n",
              "count_room_maid         False\n",
              "count_room_storage      False\n",
              "count_room_utility      False\n",
              "dtype: bool"
            ]
          },
          "metadata": {},
          "execution_count": 39
        }
      ]
    },
    {
      "cell_type": "code",
      "source": [
        "# save data\n",
        "opendata_unittype.to_csv('opendata_unittype_clean_F1.csv', index=False)"
      ],
      "metadata": {
        "id": "v9oqiK6uI3eD"
      },
      "execution_count": 40,
      "outputs": []
    },
    {
      "cell_type": "markdown",
      "source": [
        "##opendata_train station table"
      ],
      "metadata": {
        "id": "Gg-s5Kw-zUhu"
      }
    },
    {
      "cell_type": "code",
      "source": [
        "opendata_train_station = pd.read_csv('opendata_train_station.csv')\n",
        "print(opendata_train_station.shape) \n",
        "opendata_train_station.head(3)"
      ],
      "metadata": {
        "colab": {
          "base_uri": "https://localhost:8080/",
          "height": 277
        },
        "id": "wz1q-vmvTS6U",
        "outputId": "19746f26-1ffd-4b01-8258-3db15acf6550"
      },
      "execution_count": 10,
      "outputs": [
        {
          "output_type": "stream",
          "name": "stdout",
          "text": [
            "(318, 20)\n"
          ]
        },
        {
          "output_type": "execute_result",
          "data": {
            "text/plain": [
              "   row_number  gid  line_no  railway     line_typt line_type status  \\\n",
              "0          45  256        9  รถไฟฟ้า  เอ็มอาร์ทีเอ       MRT  อนาคต   \n",
              "1          29  216        8  รถไฟฟ้า    เอ็มอาร์ที       MRT  อนาคต   \n",
              "2         109  232        8  รถไฟฟ้า    เอ็มอาร์ที       MRT  อนาคต   \n",
              "\n",
              "       line_th      line_en station_th station_en   latitude   longitude  \\\n",
              "0  สายสีเหลือง  Yellow Line    ศรีเทพา  Si Thepha  13.630859  100.620892   \n",
              "1     สายสีส้ม  Orange Line  น้อมเกล้า   Nom Klao  13.785996  100.689656   \n",
              "2     สายสีส้ม  Orange Line     ดินแดง  Din Daeng  13.768490  100.550541   \n",
              "\n",
              "       prov_namt     prov_name  amp_namt     amp_name  tam_namt     tam_name  \\\n",
              "0    สมุทรปราการ  SAMUT PRAKAN    บางพลี    BANG PHLI   บางแก้ว    BANG KAEO   \n",
              "1  กรุงเทพมหานคร       BANGKOK  สะพานสูง  SAPHAN SUNG  สะพานสูง  SAPHAN SUNG   \n",
              "2  กรุงเทพมหานคร       BANGKOK     พญาไท   PHAYA THAI  สามเสนใน  SAM SEN NAI   \n",
              "\n",
              "         day  \n",
              "0  1/11/2022  \n",
              "1  1/11/2022  \n",
              "2  1/11/2022  "
            ],
            "text/html": [
              "\n",
              "  <div id=\"df-abdad142-3bf5-427e-a2a8-6b3dbdd644eb\">\n",
              "    <div class=\"colab-df-container\">\n",
              "      <div>\n",
              "<style scoped>\n",
              "    .dataframe tbody tr th:only-of-type {\n",
              "        vertical-align: middle;\n",
              "    }\n",
              "\n",
              "    .dataframe tbody tr th {\n",
              "        vertical-align: top;\n",
              "    }\n",
              "\n",
              "    .dataframe thead th {\n",
              "        text-align: right;\n",
              "    }\n",
              "</style>\n",
              "<table border=\"1\" class=\"dataframe\">\n",
              "  <thead>\n",
              "    <tr style=\"text-align: right;\">\n",
              "      <th></th>\n",
              "      <th>row_number</th>\n",
              "      <th>gid</th>\n",
              "      <th>line_no</th>\n",
              "      <th>railway</th>\n",
              "      <th>line_typt</th>\n",
              "      <th>line_type</th>\n",
              "      <th>status</th>\n",
              "      <th>line_th</th>\n",
              "      <th>line_en</th>\n",
              "      <th>station_th</th>\n",
              "      <th>station_en</th>\n",
              "      <th>latitude</th>\n",
              "      <th>longitude</th>\n",
              "      <th>prov_namt</th>\n",
              "      <th>prov_name</th>\n",
              "      <th>amp_namt</th>\n",
              "      <th>amp_name</th>\n",
              "      <th>tam_namt</th>\n",
              "      <th>tam_name</th>\n",
              "      <th>day</th>\n",
              "    </tr>\n",
              "  </thead>\n",
              "  <tbody>\n",
              "    <tr>\n",
              "      <th>0</th>\n",
              "      <td>45</td>\n",
              "      <td>256</td>\n",
              "      <td>9</td>\n",
              "      <td>รถไฟฟ้า</td>\n",
              "      <td>เอ็มอาร์ทีเอ</td>\n",
              "      <td>MRT</td>\n",
              "      <td>อนาคต</td>\n",
              "      <td>สายสีเหลือง</td>\n",
              "      <td>Yellow Line</td>\n",
              "      <td>ศรีเทพา</td>\n",
              "      <td>Si Thepha</td>\n",
              "      <td>13.630859</td>\n",
              "      <td>100.620892</td>\n",
              "      <td>สมุทรปราการ</td>\n",
              "      <td>SAMUT PRAKAN</td>\n",
              "      <td>บางพลี</td>\n",
              "      <td>BANG PHLI</td>\n",
              "      <td>บางแก้ว</td>\n",
              "      <td>BANG KAEO</td>\n",
              "      <td>1/11/2022</td>\n",
              "    </tr>\n",
              "    <tr>\n",
              "      <th>1</th>\n",
              "      <td>29</td>\n",
              "      <td>216</td>\n",
              "      <td>8</td>\n",
              "      <td>รถไฟฟ้า</td>\n",
              "      <td>เอ็มอาร์ที</td>\n",
              "      <td>MRT</td>\n",
              "      <td>อนาคต</td>\n",
              "      <td>สายสีส้ม</td>\n",
              "      <td>Orange Line</td>\n",
              "      <td>น้อมเกล้า</td>\n",
              "      <td>Nom Klao</td>\n",
              "      <td>13.785996</td>\n",
              "      <td>100.689656</td>\n",
              "      <td>กรุงเทพมหานคร</td>\n",
              "      <td>BANGKOK</td>\n",
              "      <td>สะพานสูง</td>\n",
              "      <td>SAPHAN SUNG</td>\n",
              "      <td>สะพานสูง</td>\n",
              "      <td>SAPHAN SUNG</td>\n",
              "      <td>1/11/2022</td>\n",
              "    </tr>\n",
              "    <tr>\n",
              "      <th>2</th>\n",
              "      <td>109</td>\n",
              "      <td>232</td>\n",
              "      <td>8</td>\n",
              "      <td>รถไฟฟ้า</td>\n",
              "      <td>เอ็มอาร์ที</td>\n",
              "      <td>MRT</td>\n",
              "      <td>อนาคต</td>\n",
              "      <td>สายสีส้ม</td>\n",
              "      <td>Orange Line</td>\n",
              "      <td>ดินแดง</td>\n",
              "      <td>Din Daeng</td>\n",
              "      <td>13.768490</td>\n",
              "      <td>100.550541</td>\n",
              "      <td>กรุงเทพมหานคร</td>\n",
              "      <td>BANGKOK</td>\n",
              "      <td>พญาไท</td>\n",
              "      <td>PHAYA THAI</td>\n",
              "      <td>สามเสนใน</td>\n",
              "      <td>SAM SEN NAI</td>\n",
              "      <td>1/11/2022</td>\n",
              "    </tr>\n",
              "  </tbody>\n",
              "</table>\n",
              "</div>\n",
              "      <button class=\"colab-df-convert\" onclick=\"convertToInteractive('df-abdad142-3bf5-427e-a2a8-6b3dbdd644eb')\"\n",
              "              title=\"Convert this dataframe to an interactive table.\"\n",
              "              style=\"display:none;\">\n",
              "        \n",
              "  <svg xmlns=\"http://www.w3.org/2000/svg\" height=\"24px\"viewBox=\"0 0 24 24\"\n",
              "       width=\"24px\">\n",
              "    <path d=\"M0 0h24v24H0V0z\" fill=\"none\"/>\n",
              "    <path d=\"M18.56 5.44l.94 2.06.94-2.06 2.06-.94-2.06-.94-.94-2.06-.94 2.06-2.06.94zm-11 1L8.5 8.5l.94-2.06 2.06-.94-2.06-.94L8.5 2.5l-.94 2.06-2.06.94zm10 10l.94 2.06.94-2.06 2.06-.94-2.06-.94-.94-2.06-.94 2.06-2.06.94z\"/><path d=\"M17.41 7.96l-1.37-1.37c-.4-.4-.92-.59-1.43-.59-.52 0-1.04.2-1.43.59L10.3 9.45l-7.72 7.72c-.78.78-.78 2.05 0 2.83L4 21.41c.39.39.9.59 1.41.59.51 0 1.02-.2 1.41-.59l7.78-7.78 2.81-2.81c.8-.78.8-2.07 0-2.86zM5.41 20L4 18.59l7.72-7.72 1.47 1.35L5.41 20z\"/>\n",
              "  </svg>\n",
              "      </button>\n",
              "      \n",
              "  <style>\n",
              "    .colab-df-container {\n",
              "      display:flex;\n",
              "      flex-wrap:wrap;\n",
              "      gap: 12px;\n",
              "    }\n",
              "\n",
              "    .colab-df-convert {\n",
              "      background-color: #E8F0FE;\n",
              "      border: none;\n",
              "      border-radius: 50%;\n",
              "      cursor: pointer;\n",
              "      display: none;\n",
              "      fill: #1967D2;\n",
              "      height: 32px;\n",
              "      padding: 0 0 0 0;\n",
              "      width: 32px;\n",
              "    }\n",
              "\n",
              "    .colab-df-convert:hover {\n",
              "      background-color: #E2EBFA;\n",
              "      box-shadow: 0px 1px 2px rgba(60, 64, 67, 0.3), 0px 1px 3px 1px rgba(60, 64, 67, 0.15);\n",
              "      fill: #174EA6;\n",
              "    }\n",
              "\n",
              "    [theme=dark] .colab-df-convert {\n",
              "      background-color: #3B4455;\n",
              "      fill: #D2E3FC;\n",
              "    }\n",
              "\n",
              "    [theme=dark] .colab-df-convert:hover {\n",
              "      background-color: #434B5C;\n",
              "      box-shadow: 0px 1px 3px 1px rgba(0, 0, 0, 0.15);\n",
              "      filter: drop-shadow(0px 1px 2px rgba(0, 0, 0, 0.3));\n",
              "      fill: #FFFFFF;\n",
              "    }\n",
              "  </style>\n",
              "\n",
              "      <script>\n",
              "        const buttonEl =\n",
              "          document.querySelector('#df-abdad142-3bf5-427e-a2a8-6b3dbdd644eb button.colab-df-convert');\n",
              "        buttonEl.style.display =\n",
              "          google.colab.kernel.accessAllowed ? 'block' : 'none';\n",
              "\n",
              "        async function convertToInteractive(key) {\n",
              "          const element = document.querySelector('#df-abdad142-3bf5-427e-a2a8-6b3dbdd644eb');\n",
              "          const dataTable =\n",
              "            await google.colab.kernel.invokeFunction('convertToInteractive',\n",
              "                                                     [key], {});\n",
              "          if (!dataTable) return;\n",
              "\n",
              "          const docLinkHtml = 'Like what you see? Visit the ' +\n",
              "            '<a target=\"_blank\" href=https://colab.research.google.com/notebooks/data_table.ipynb>data table notebook</a>'\n",
              "            + ' to learn more about interactive tables.';\n",
              "          element.innerHTML = '';\n",
              "          dataTable['output_type'] = 'display_data';\n",
              "          await google.colab.output.renderOutput(dataTable, element);\n",
              "          const docLink = document.createElement('div');\n",
              "          docLink.innerHTML = docLinkHtml;\n",
              "          element.appendChild(docLink);\n",
              "        }\n",
              "      </script>\n",
              "    </div>\n",
              "  </div>\n",
              "  "
            ]
          },
          "metadata": {},
          "execution_count": 10
        }
      ]
    },
    {
      "cell_type": "code",
      "source": [
        "opendata_train_station.columns"
      ],
      "metadata": {
        "colab": {
          "base_uri": "https://localhost:8080/"
        },
        "id": "W5NC3j-fUYNH",
        "outputId": "6a48b101-8a9a-4711-db55-c41914c5ae27"
      },
      "execution_count": 11,
      "outputs": [
        {
          "output_type": "execute_result",
          "data": {
            "text/plain": [
              "Index(['row_number', 'gid', 'line_no', 'railway', 'line_typt', 'line_type',\n",
              "       'status', 'line_th', 'line_en', 'station_th', 'station_en', 'latitude',\n",
              "       'longitude', 'prov_namt', 'prov_name', 'amp_namt', 'amp_name',\n",
              "       'tam_namt', 'tam_name', 'day'],\n",
              "      dtype='object')"
            ]
          },
          "metadata": {},
          "execution_count": 11
        }
      ]
    },
    {
      "cell_type": "code",
      "source": [
        "opendata_train_station = opendata_train_station[['row_number', 'gid', 'line_no', 'railway', 'line_typt', 'line_type',\n",
        "       'status', 'line_th', 'line_en', 'station_th', 'station_en', 'latitude',\n",
        "       'longitude', 'prov_namt', 'prov_name', 'amp_namt', 'amp_name',\n",
        "       'tam_namt', 'tam_name']]\n",
        "opendata_train_station.head()"
      ],
      "metadata": {
        "colab": {
          "base_uri": "https://localhost:8080/",
          "height": 374
        },
        "id": "NxP5ewihJN_N",
        "outputId": "d21fa3b0-2ddd-4247-fa5c-1d354f1f99fa"
      },
      "execution_count": 41,
      "outputs": [
        {
          "output_type": "execute_result",
          "data": {
            "text/plain": [
              "   row_number  gid  line_no  railway            line_typt          line_type  \\\n",
              "0          45  256        9  รถไฟฟ้า         เอ็มอาร์ทีเอ                MRT   \n",
              "1          29  216        8  รถไฟฟ้า           เอ็มอาร์ที                MRT   \n",
              "2         109  232        8  รถไฟฟ้า           เอ็มอาร์ที                MRT   \n",
              "3         176  219        8  รถไฟฟ้า           เอ็มอาร์ที                MRT   \n",
              "4          55  152        5  รถไฟฟ้า  แอร์พอร์ต-เรล-ลิงค์  Airport-Rail-Link   \n",
              "\n",
              "     status              line_th            line_en    station_th  \\\n",
              "0     อนาคต          สายสีเหลือง        Yellow Line       ศรีเทพา   \n",
              "1     อนาคต             สายสีส้ม        Orange Line     น้อมเกล้า   \n",
              "2     อนาคต             สายสีส้ม        Orange Line        ดินแดง   \n",
              "3     อนาคต             สายสีส้ม        Orange Line  เคหะรามคำแหง   \n",
              "4  ปัจจุบัน  แอร์พอร์ต เรล ลิงค์  Airport Rail Link       หัวหมาก   \n",
              "\n",
              "          station_en   latitude   longitude      prov_namt     prov_name  \\\n",
              "0          Si Thepha  13.630859  100.620892    สมุทรปราการ  SAMUT PRAKAN   \n",
              "1           Nom Klao  13.785996  100.689656  กรุงเทพมหานคร       BANGKOK   \n",
              "2          Din Daeng  13.768490  100.550541  กรุงเทพมหานคร       BANGKOK   \n",
              "3  Keha Ramkhamhaeng  13.804877  100.725687  กรุงเทพมหานคร       BANGKOK   \n",
              "4            Hua Mak  13.738291  100.642239  กรุงเทพมหานคร       BANGKOK   \n",
              "\n",
              "    amp_namt       amp_name       tam_namt          tam_name  \n",
              "0     บางพลี      BANG PHLI        บางแก้ว         BANG KAEO  \n",
              "1   สะพานสูง    SAPHAN SUNG       สะพานสูง       SAPHAN SUNG  \n",
              "2      พญาไท     PHAYA THAI       สามเสนใน       SAM SEN NAI  \n",
              "3  คลองสามวา  KHLONG SAM WA  ทรายกองดินใต้  SAI KONG DIN TAI  \n",
              "4    สวนหลวง   PHATTHANAKAN       พัฒนาการ        SUAN LUANG  "
            ],
            "text/html": [
              "\n",
              "  <div id=\"df-ffcf0a45-4122-417b-bbc4-7892806e32c7\">\n",
              "    <div class=\"colab-df-container\">\n",
              "      <div>\n",
              "<style scoped>\n",
              "    .dataframe tbody tr th:only-of-type {\n",
              "        vertical-align: middle;\n",
              "    }\n",
              "\n",
              "    .dataframe tbody tr th {\n",
              "        vertical-align: top;\n",
              "    }\n",
              "\n",
              "    .dataframe thead th {\n",
              "        text-align: right;\n",
              "    }\n",
              "</style>\n",
              "<table border=\"1\" class=\"dataframe\">\n",
              "  <thead>\n",
              "    <tr style=\"text-align: right;\">\n",
              "      <th></th>\n",
              "      <th>row_number</th>\n",
              "      <th>gid</th>\n",
              "      <th>line_no</th>\n",
              "      <th>railway</th>\n",
              "      <th>line_typt</th>\n",
              "      <th>line_type</th>\n",
              "      <th>status</th>\n",
              "      <th>line_th</th>\n",
              "      <th>line_en</th>\n",
              "      <th>station_th</th>\n",
              "      <th>station_en</th>\n",
              "      <th>latitude</th>\n",
              "      <th>longitude</th>\n",
              "      <th>prov_namt</th>\n",
              "      <th>prov_name</th>\n",
              "      <th>amp_namt</th>\n",
              "      <th>amp_name</th>\n",
              "      <th>tam_namt</th>\n",
              "      <th>tam_name</th>\n",
              "    </tr>\n",
              "  </thead>\n",
              "  <tbody>\n",
              "    <tr>\n",
              "      <th>0</th>\n",
              "      <td>45</td>\n",
              "      <td>256</td>\n",
              "      <td>9</td>\n",
              "      <td>รถไฟฟ้า</td>\n",
              "      <td>เอ็มอาร์ทีเอ</td>\n",
              "      <td>MRT</td>\n",
              "      <td>อนาคต</td>\n",
              "      <td>สายสีเหลือง</td>\n",
              "      <td>Yellow Line</td>\n",
              "      <td>ศรีเทพา</td>\n",
              "      <td>Si Thepha</td>\n",
              "      <td>13.630859</td>\n",
              "      <td>100.620892</td>\n",
              "      <td>สมุทรปราการ</td>\n",
              "      <td>SAMUT PRAKAN</td>\n",
              "      <td>บางพลี</td>\n",
              "      <td>BANG PHLI</td>\n",
              "      <td>บางแก้ว</td>\n",
              "      <td>BANG KAEO</td>\n",
              "    </tr>\n",
              "    <tr>\n",
              "      <th>1</th>\n",
              "      <td>29</td>\n",
              "      <td>216</td>\n",
              "      <td>8</td>\n",
              "      <td>รถไฟฟ้า</td>\n",
              "      <td>เอ็มอาร์ที</td>\n",
              "      <td>MRT</td>\n",
              "      <td>อนาคต</td>\n",
              "      <td>สายสีส้ม</td>\n",
              "      <td>Orange Line</td>\n",
              "      <td>น้อมเกล้า</td>\n",
              "      <td>Nom Klao</td>\n",
              "      <td>13.785996</td>\n",
              "      <td>100.689656</td>\n",
              "      <td>กรุงเทพมหานคร</td>\n",
              "      <td>BANGKOK</td>\n",
              "      <td>สะพานสูง</td>\n",
              "      <td>SAPHAN SUNG</td>\n",
              "      <td>สะพานสูง</td>\n",
              "      <td>SAPHAN SUNG</td>\n",
              "    </tr>\n",
              "    <tr>\n",
              "      <th>2</th>\n",
              "      <td>109</td>\n",
              "      <td>232</td>\n",
              "      <td>8</td>\n",
              "      <td>รถไฟฟ้า</td>\n",
              "      <td>เอ็มอาร์ที</td>\n",
              "      <td>MRT</td>\n",
              "      <td>อนาคต</td>\n",
              "      <td>สายสีส้ม</td>\n",
              "      <td>Orange Line</td>\n",
              "      <td>ดินแดง</td>\n",
              "      <td>Din Daeng</td>\n",
              "      <td>13.768490</td>\n",
              "      <td>100.550541</td>\n",
              "      <td>กรุงเทพมหานคร</td>\n",
              "      <td>BANGKOK</td>\n",
              "      <td>พญาไท</td>\n",
              "      <td>PHAYA THAI</td>\n",
              "      <td>สามเสนใน</td>\n",
              "      <td>SAM SEN NAI</td>\n",
              "    </tr>\n",
              "    <tr>\n",
              "      <th>3</th>\n",
              "      <td>176</td>\n",
              "      <td>219</td>\n",
              "      <td>8</td>\n",
              "      <td>รถไฟฟ้า</td>\n",
              "      <td>เอ็มอาร์ที</td>\n",
              "      <td>MRT</td>\n",
              "      <td>อนาคต</td>\n",
              "      <td>สายสีส้ม</td>\n",
              "      <td>Orange Line</td>\n",
              "      <td>เคหะรามคำแหง</td>\n",
              "      <td>Keha Ramkhamhaeng</td>\n",
              "      <td>13.804877</td>\n",
              "      <td>100.725687</td>\n",
              "      <td>กรุงเทพมหานคร</td>\n",
              "      <td>BANGKOK</td>\n",
              "      <td>คลองสามวา</td>\n",
              "      <td>KHLONG SAM WA</td>\n",
              "      <td>ทรายกองดินใต้</td>\n",
              "      <td>SAI KONG DIN TAI</td>\n",
              "    </tr>\n",
              "    <tr>\n",
              "      <th>4</th>\n",
              "      <td>55</td>\n",
              "      <td>152</td>\n",
              "      <td>5</td>\n",
              "      <td>รถไฟฟ้า</td>\n",
              "      <td>แอร์พอร์ต-เรล-ลิงค์</td>\n",
              "      <td>Airport-Rail-Link</td>\n",
              "      <td>ปัจจุบัน</td>\n",
              "      <td>แอร์พอร์ต เรล ลิงค์</td>\n",
              "      <td>Airport Rail Link</td>\n",
              "      <td>หัวหมาก</td>\n",
              "      <td>Hua Mak</td>\n",
              "      <td>13.738291</td>\n",
              "      <td>100.642239</td>\n",
              "      <td>กรุงเทพมหานคร</td>\n",
              "      <td>BANGKOK</td>\n",
              "      <td>สวนหลวง</td>\n",
              "      <td>PHATTHANAKAN</td>\n",
              "      <td>พัฒนาการ</td>\n",
              "      <td>SUAN LUANG</td>\n",
              "    </tr>\n",
              "  </tbody>\n",
              "</table>\n",
              "</div>\n",
              "      <button class=\"colab-df-convert\" onclick=\"convertToInteractive('df-ffcf0a45-4122-417b-bbc4-7892806e32c7')\"\n",
              "              title=\"Convert this dataframe to an interactive table.\"\n",
              "              style=\"display:none;\">\n",
              "        \n",
              "  <svg xmlns=\"http://www.w3.org/2000/svg\" height=\"24px\"viewBox=\"0 0 24 24\"\n",
              "       width=\"24px\">\n",
              "    <path d=\"M0 0h24v24H0V0z\" fill=\"none\"/>\n",
              "    <path d=\"M18.56 5.44l.94 2.06.94-2.06 2.06-.94-2.06-.94-.94-2.06-.94 2.06-2.06.94zm-11 1L8.5 8.5l.94-2.06 2.06-.94-2.06-.94L8.5 2.5l-.94 2.06-2.06.94zm10 10l.94 2.06.94-2.06 2.06-.94-2.06-.94-.94-2.06-.94 2.06-2.06.94z\"/><path d=\"M17.41 7.96l-1.37-1.37c-.4-.4-.92-.59-1.43-.59-.52 0-1.04.2-1.43.59L10.3 9.45l-7.72 7.72c-.78.78-.78 2.05 0 2.83L4 21.41c.39.39.9.59 1.41.59.51 0 1.02-.2 1.41-.59l7.78-7.78 2.81-2.81c.8-.78.8-2.07 0-2.86zM5.41 20L4 18.59l7.72-7.72 1.47 1.35L5.41 20z\"/>\n",
              "  </svg>\n",
              "      </button>\n",
              "      \n",
              "  <style>\n",
              "    .colab-df-container {\n",
              "      display:flex;\n",
              "      flex-wrap:wrap;\n",
              "      gap: 12px;\n",
              "    }\n",
              "\n",
              "    .colab-df-convert {\n",
              "      background-color: #E8F0FE;\n",
              "      border: none;\n",
              "      border-radius: 50%;\n",
              "      cursor: pointer;\n",
              "      display: none;\n",
              "      fill: #1967D2;\n",
              "      height: 32px;\n",
              "      padding: 0 0 0 0;\n",
              "      width: 32px;\n",
              "    }\n",
              "\n",
              "    .colab-df-convert:hover {\n",
              "      background-color: #E2EBFA;\n",
              "      box-shadow: 0px 1px 2px rgba(60, 64, 67, 0.3), 0px 1px 3px 1px rgba(60, 64, 67, 0.15);\n",
              "      fill: #174EA6;\n",
              "    }\n",
              "\n",
              "    [theme=dark] .colab-df-convert {\n",
              "      background-color: #3B4455;\n",
              "      fill: #D2E3FC;\n",
              "    }\n",
              "\n",
              "    [theme=dark] .colab-df-convert:hover {\n",
              "      background-color: #434B5C;\n",
              "      box-shadow: 0px 1px 3px 1px rgba(0, 0, 0, 0.15);\n",
              "      filter: drop-shadow(0px 1px 2px rgba(0, 0, 0, 0.3));\n",
              "      fill: #FFFFFF;\n",
              "    }\n",
              "  </style>\n",
              "\n",
              "      <script>\n",
              "        const buttonEl =\n",
              "          document.querySelector('#df-ffcf0a45-4122-417b-bbc4-7892806e32c7 button.colab-df-convert');\n",
              "        buttonEl.style.display =\n",
              "          google.colab.kernel.accessAllowed ? 'block' : 'none';\n",
              "\n",
              "        async function convertToInteractive(key) {\n",
              "          const element = document.querySelector('#df-ffcf0a45-4122-417b-bbc4-7892806e32c7');\n",
              "          const dataTable =\n",
              "            await google.colab.kernel.invokeFunction('convertToInteractive',\n",
              "                                                     [key], {});\n",
              "          if (!dataTable) return;\n",
              "\n",
              "          const docLinkHtml = 'Like what you see? Visit the ' +\n",
              "            '<a target=\"_blank\" href=https://colab.research.google.com/notebooks/data_table.ipynb>data table notebook</a>'\n",
              "            + ' to learn more about interactive tables.';\n",
              "          element.innerHTML = '';\n",
              "          dataTable['output_type'] = 'display_data';\n",
              "          await google.colab.output.renderOutput(dataTable, element);\n",
              "          const docLink = document.createElement('div');\n",
              "          docLink.innerHTML = docLinkHtml;\n",
              "          element.appendChild(docLink);\n",
              "        }\n",
              "      </script>\n",
              "    </div>\n",
              "  </div>\n",
              "  "
            ]
          },
          "metadata": {},
          "execution_count": 41
        }
      ]
    },
    {
      "cell_type": "markdown",
      "source": [
        "### Missing/Null Checking"
      ],
      "metadata": {
        "id": "r4WgXqVEJ8B1"
      }
    },
    {
      "cell_type": "code",
      "source": [
        "opendata_train_station.isnull().any()"
      ],
      "metadata": {
        "colab": {
          "base_uri": "https://localhost:8080/"
        },
        "id": "1NrUNRdCJ86t",
        "outputId": "6c89ca43-1339-4dbc-d5cb-18b0fd68e814"
      },
      "execution_count": 49,
      "outputs": [
        {
          "output_type": "execute_result",
          "data": {
            "text/plain": [
              "row_number    False\n",
              "gid           False\n",
              "line_no       False\n",
              "railway       False\n",
              "line_typt     False\n",
              "line_type     False\n",
              "status        False\n",
              "line_th       False\n",
              "line_en       False\n",
              "station_th    False\n",
              "station_en    False\n",
              "latitude      False\n",
              "longitude     False\n",
              "prov_namt     False\n",
              "prov_name     False\n",
              "amp_namt      False\n",
              "amp_name      False\n",
              "tam_namt      False\n",
              "tam_name      False\n",
              "dtype: bool"
            ]
          },
          "metadata": {},
          "execution_count": 49
        }
      ]
    },
    {
      "cell_type": "code",
      "source": [
        "# save data\n",
        "opendata_train_station.to_csv('opendata_train_station_clean_F1.csv', index=False)"
      ],
      "metadata": {
        "id": "GlQT_FsnKtzU"
      },
      "execution_count": 50,
      "outputs": []
    },
    {
      "cell_type": "markdown",
      "source": [
        "##opendata_train line table"
      ],
      "metadata": {
        "id": "ryrQlBqFzYPW"
      }
    },
    {
      "cell_type": "code",
      "source": [
        "opendata_train_line = pd.read_csv('opendata_train_line.csv')\n",
        "print(opendata_train_line.shape) \n",
        "opendata_train_line.head(3)"
      ],
      "metadata": {
        "colab": {
          "base_uri": "https://localhost:8080/",
          "height": 161
        },
        "id": "SItL3c6Vw9lh",
        "outputId": "405b0884-96c3-4f4e-f2df-f9e7eeaaf937"
      },
      "execution_count": 12,
      "outputs": [
        {
          "output_type": "stream",
          "name": "stdout",
          "text": [
            "(49, 6)\n"
          ]
        },
        {
          "output_type": "execute_result",
          "data": {
            "text/plain": [
              "   row_number            name                area status  \\\n",
              "0          22     สายสีน้ำตาล        แคราย-ลำสาลี  อนาคต   \n",
              "1          16  สายสีเขียวอ่อน  ตลิ่งชัน - บางหว้า  อนาคต   \n",
              "2          18    สายสีแดงเข้ม   มหาชัย - รางโพธิ์  อนาคต   \n",
              "\n",
              "                                            geometry        day  \n",
              "0  LINESTRING (100.5155029670176 13.8599801163895...  1/11/2022  \n",
              "1  LINESTRING (100.4402600000001 13.7892089999999...  1/11/2022  \n",
              "2  LINESTRING (100.2609130546652 13.5609441473892...  1/11/2022  "
            ],
            "text/html": [
              "\n",
              "  <div id=\"df-c31f2fc8-df0c-491d-a4f7-06772922bf0a\">\n",
              "    <div class=\"colab-df-container\">\n",
              "      <div>\n",
              "<style scoped>\n",
              "    .dataframe tbody tr th:only-of-type {\n",
              "        vertical-align: middle;\n",
              "    }\n",
              "\n",
              "    .dataframe tbody tr th {\n",
              "        vertical-align: top;\n",
              "    }\n",
              "\n",
              "    .dataframe thead th {\n",
              "        text-align: right;\n",
              "    }\n",
              "</style>\n",
              "<table border=\"1\" class=\"dataframe\">\n",
              "  <thead>\n",
              "    <tr style=\"text-align: right;\">\n",
              "      <th></th>\n",
              "      <th>row_number</th>\n",
              "      <th>name</th>\n",
              "      <th>area</th>\n",
              "      <th>status</th>\n",
              "      <th>geometry</th>\n",
              "      <th>day</th>\n",
              "    </tr>\n",
              "  </thead>\n",
              "  <tbody>\n",
              "    <tr>\n",
              "      <th>0</th>\n",
              "      <td>22</td>\n",
              "      <td>สายสีน้ำตาล</td>\n",
              "      <td>แคราย-ลำสาลี</td>\n",
              "      <td>อนาคต</td>\n",
              "      <td>LINESTRING (100.5155029670176 13.8599801163895...</td>\n",
              "      <td>1/11/2022</td>\n",
              "    </tr>\n",
              "    <tr>\n",
              "      <th>1</th>\n",
              "      <td>16</td>\n",
              "      <td>สายสีเขียวอ่อน</td>\n",
              "      <td>ตลิ่งชัน - บางหว้า</td>\n",
              "      <td>อนาคต</td>\n",
              "      <td>LINESTRING (100.4402600000001 13.7892089999999...</td>\n",
              "      <td>1/11/2022</td>\n",
              "    </tr>\n",
              "    <tr>\n",
              "      <th>2</th>\n",
              "      <td>18</td>\n",
              "      <td>สายสีแดงเข้ม</td>\n",
              "      <td>มหาชัย - รางโพธิ์</td>\n",
              "      <td>อนาคต</td>\n",
              "      <td>LINESTRING (100.2609130546652 13.5609441473892...</td>\n",
              "      <td>1/11/2022</td>\n",
              "    </tr>\n",
              "  </tbody>\n",
              "</table>\n",
              "</div>\n",
              "      <button class=\"colab-df-convert\" onclick=\"convertToInteractive('df-c31f2fc8-df0c-491d-a4f7-06772922bf0a')\"\n",
              "              title=\"Convert this dataframe to an interactive table.\"\n",
              "              style=\"display:none;\">\n",
              "        \n",
              "  <svg xmlns=\"http://www.w3.org/2000/svg\" height=\"24px\"viewBox=\"0 0 24 24\"\n",
              "       width=\"24px\">\n",
              "    <path d=\"M0 0h24v24H0V0z\" fill=\"none\"/>\n",
              "    <path d=\"M18.56 5.44l.94 2.06.94-2.06 2.06-.94-2.06-.94-.94-2.06-.94 2.06-2.06.94zm-11 1L8.5 8.5l.94-2.06 2.06-.94-2.06-.94L8.5 2.5l-.94 2.06-2.06.94zm10 10l.94 2.06.94-2.06 2.06-.94-2.06-.94-.94-2.06-.94 2.06-2.06.94z\"/><path d=\"M17.41 7.96l-1.37-1.37c-.4-.4-.92-.59-1.43-.59-.52 0-1.04.2-1.43.59L10.3 9.45l-7.72 7.72c-.78.78-.78 2.05 0 2.83L4 21.41c.39.39.9.59 1.41.59.51 0 1.02-.2 1.41-.59l7.78-7.78 2.81-2.81c.8-.78.8-2.07 0-2.86zM5.41 20L4 18.59l7.72-7.72 1.47 1.35L5.41 20z\"/>\n",
              "  </svg>\n",
              "      </button>\n",
              "      \n",
              "  <style>\n",
              "    .colab-df-container {\n",
              "      display:flex;\n",
              "      flex-wrap:wrap;\n",
              "      gap: 12px;\n",
              "    }\n",
              "\n",
              "    .colab-df-convert {\n",
              "      background-color: #E8F0FE;\n",
              "      border: none;\n",
              "      border-radius: 50%;\n",
              "      cursor: pointer;\n",
              "      display: none;\n",
              "      fill: #1967D2;\n",
              "      height: 32px;\n",
              "      padding: 0 0 0 0;\n",
              "      width: 32px;\n",
              "    }\n",
              "\n",
              "    .colab-df-convert:hover {\n",
              "      background-color: #E2EBFA;\n",
              "      box-shadow: 0px 1px 2px rgba(60, 64, 67, 0.3), 0px 1px 3px 1px rgba(60, 64, 67, 0.15);\n",
              "      fill: #174EA6;\n",
              "    }\n",
              "\n",
              "    [theme=dark] .colab-df-convert {\n",
              "      background-color: #3B4455;\n",
              "      fill: #D2E3FC;\n",
              "    }\n",
              "\n",
              "    [theme=dark] .colab-df-convert:hover {\n",
              "      background-color: #434B5C;\n",
              "      box-shadow: 0px 1px 3px 1px rgba(0, 0, 0, 0.15);\n",
              "      filter: drop-shadow(0px 1px 2px rgba(0, 0, 0, 0.3));\n",
              "      fill: #FFFFFF;\n",
              "    }\n",
              "  </style>\n",
              "\n",
              "      <script>\n",
              "        const buttonEl =\n",
              "          document.querySelector('#df-c31f2fc8-df0c-491d-a4f7-06772922bf0a button.colab-df-convert');\n",
              "        buttonEl.style.display =\n",
              "          google.colab.kernel.accessAllowed ? 'block' : 'none';\n",
              "\n",
              "        async function convertToInteractive(key) {\n",
              "          const element = document.querySelector('#df-c31f2fc8-df0c-491d-a4f7-06772922bf0a');\n",
              "          const dataTable =\n",
              "            await google.colab.kernel.invokeFunction('convertToInteractive',\n",
              "                                                     [key], {});\n",
              "          if (!dataTable) return;\n",
              "\n",
              "          const docLinkHtml = 'Like what you see? Visit the ' +\n",
              "            '<a target=\"_blank\" href=https://colab.research.google.com/notebooks/data_table.ipynb>data table notebook</a>'\n",
              "            + ' to learn more about interactive tables.';\n",
              "          element.innerHTML = '';\n",
              "          dataTable['output_type'] = 'display_data';\n",
              "          await google.colab.output.renderOutput(dataTable, element);\n",
              "          const docLink = document.createElement('div');\n",
              "          docLink.innerHTML = docLinkHtml;\n",
              "          element.appendChild(docLink);\n",
              "        }\n",
              "      </script>\n",
              "    </div>\n",
              "  </div>\n",
              "  "
            ]
          },
          "metadata": {},
          "execution_count": 12
        }
      ]
    },
    {
      "cell_type": "code",
      "source": [
        "opendata_train_line.columns"
      ],
      "metadata": {
        "colab": {
          "base_uri": "https://localhost:8080/"
        },
        "id": "EIUvBGGlxdYA",
        "outputId": "676d997e-b38b-4ede-8091-26f6d70e4a1f"
      },
      "execution_count": 13,
      "outputs": [
        {
          "output_type": "execute_result",
          "data": {
            "text/plain": [
              "Index(['row_number', 'name', 'area', 'status', 'geometry', 'day'], dtype='object')"
            ]
          },
          "metadata": {},
          "execution_count": 13
        }
      ]
    },
    {
      "cell_type": "code",
      "source": [
        "opendata_train_line = opendata_train_line[['row_number', 'name', 'area', 'status', 'geometry']]\n",
        "opendata_train_line.head()\n"
      ],
      "metadata": {
        "colab": {
          "base_uri": "https://localhost:8080/",
          "height": 206
        },
        "id": "p4deWD2ILCGH",
        "outputId": "7404e85a-1103-41cf-e397-4e823ea4ceb7"
      },
      "execution_count": 48,
      "outputs": [
        {
          "output_type": "execute_result",
          "data": {
            "text/plain": [
              "   row_number            name                       area    status  \\\n",
              "0          22     สายสีน้ำตาล               แคราย-ลำสาลี     อนาคต   \n",
              "1          16  สายสีเขียวอ่อน         ตลิ่งชัน - บางหว้า     อนาคต   \n",
              "2          18    สายสีแดงเข้ม          มหาชัย - รางโพธิ์     อนาคต   \n",
              "3          19    สายสีน้ำเงิน  บางซื่อ - เตาปูน - ท่าพระ  ปัจจุบัน   \n",
              "4          41    สายสีแดงอ่อน           มักกะสัน-หัวหมาก     อนาคต   \n",
              "\n",
              "                                            geometry  \n",
              "0  LINESTRING (100.5155029670176 13.8599801163895...  \n",
              "1  LINESTRING (100.4402600000001 13.7892089999999...  \n",
              "2  LINESTRING (100.2609130546652 13.5609441473892...  \n",
              "3  LINESTRING (100.4943425960887 13.7844907442280...  \n",
              "4  LINESTRING (100.643561 13.73794300000001, 100....  "
            ],
            "text/html": [
              "\n",
              "  <div id=\"df-5d2d9759-ee80-4c3a-8555-5b160f8b6628\">\n",
              "    <div class=\"colab-df-container\">\n",
              "      <div>\n",
              "<style scoped>\n",
              "    .dataframe tbody tr th:only-of-type {\n",
              "        vertical-align: middle;\n",
              "    }\n",
              "\n",
              "    .dataframe tbody tr th {\n",
              "        vertical-align: top;\n",
              "    }\n",
              "\n",
              "    .dataframe thead th {\n",
              "        text-align: right;\n",
              "    }\n",
              "</style>\n",
              "<table border=\"1\" class=\"dataframe\">\n",
              "  <thead>\n",
              "    <tr style=\"text-align: right;\">\n",
              "      <th></th>\n",
              "      <th>row_number</th>\n",
              "      <th>name</th>\n",
              "      <th>area</th>\n",
              "      <th>status</th>\n",
              "      <th>geometry</th>\n",
              "    </tr>\n",
              "  </thead>\n",
              "  <tbody>\n",
              "    <tr>\n",
              "      <th>0</th>\n",
              "      <td>22</td>\n",
              "      <td>สายสีน้ำตาล</td>\n",
              "      <td>แคราย-ลำสาลี</td>\n",
              "      <td>อนาคต</td>\n",
              "      <td>LINESTRING (100.5155029670176 13.8599801163895...</td>\n",
              "    </tr>\n",
              "    <tr>\n",
              "      <th>1</th>\n",
              "      <td>16</td>\n",
              "      <td>สายสีเขียวอ่อน</td>\n",
              "      <td>ตลิ่งชัน - บางหว้า</td>\n",
              "      <td>อนาคต</td>\n",
              "      <td>LINESTRING (100.4402600000001 13.7892089999999...</td>\n",
              "    </tr>\n",
              "    <tr>\n",
              "      <th>2</th>\n",
              "      <td>18</td>\n",
              "      <td>สายสีแดงเข้ม</td>\n",
              "      <td>มหาชัย - รางโพธิ์</td>\n",
              "      <td>อนาคต</td>\n",
              "      <td>LINESTRING (100.2609130546652 13.5609441473892...</td>\n",
              "    </tr>\n",
              "    <tr>\n",
              "      <th>3</th>\n",
              "      <td>19</td>\n",
              "      <td>สายสีน้ำเงิน</td>\n",
              "      <td>บางซื่อ - เตาปูน - ท่าพระ</td>\n",
              "      <td>ปัจจุบัน</td>\n",
              "      <td>LINESTRING (100.4943425960887 13.7844907442280...</td>\n",
              "    </tr>\n",
              "    <tr>\n",
              "      <th>4</th>\n",
              "      <td>41</td>\n",
              "      <td>สายสีแดงอ่อน</td>\n",
              "      <td>มักกะสัน-หัวหมาก</td>\n",
              "      <td>อนาคต</td>\n",
              "      <td>LINESTRING (100.643561 13.73794300000001, 100....</td>\n",
              "    </tr>\n",
              "  </tbody>\n",
              "</table>\n",
              "</div>\n",
              "      <button class=\"colab-df-convert\" onclick=\"convertToInteractive('df-5d2d9759-ee80-4c3a-8555-5b160f8b6628')\"\n",
              "              title=\"Convert this dataframe to an interactive table.\"\n",
              "              style=\"display:none;\">\n",
              "        \n",
              "  <svg xmlns=\"http://www.w3.org/2000/svg\" height=\"24px\"viewBox=\"0 0 24 24\"\n",
              "       width=\"24px\">\n",
              "    <path d=\"M0 0h24v24H0V0z\" fill=\"none\"/>\n",
              "    <path d=\"M18.56 5.44l.94 2.06.94-2.06 2.06-.94-2.06-.94-.94-2.06-.94 2.06-2.06.94zm-11 1L8.5 8.5l.94-2.06 2.06-.94-2.06-.94L8.5 2.5l-.94 2.06-2.06.94zm10 10l.94 2.06.94-2.06 2.06-.94-2.06-.94-.94-2.06-.94 2.06-2.06.94z\"/><path d=\"M17.41 7.96l-1.37-1.37c-.4-.4-.92-.59-1.43-.59-.52 0-1.04.2-1.43.59L10.3 9.45l-7.72 7.72c-.78.78-.78 2.05 0 2.83L4 21.41c.39.39.9.59 1.41.59.51 0 1.02-.2 1.41-.59l7.78-7.78 2.81-2.81c.8-.78.8-2.07 0-2.86zM5.41 20L4 18.59l7.72-7.72 1.47 1.35L5.41 20z\"/>\n",
              "  </svg>\n",
              "      </button>\n",
              "      \n",
              "  <style>\n",
              "    .colab-df-container {\n",
              "      display:flex;\n",
              "      flex-wrap:wrap;\n",
              "      gap: 12px;\n",
              "    }\n",
              "\n",
              "    .colab-df-convert {\n",
              "      background-color: #E8F0FE;\n",
              "      border: none;\n",
              "      border-radius: 50%;\n",
              "      cursor: pointer;\n",
              "      display: none;\n",
              "      fill: #1967D2;\n",
              "      height: 32px;\n",
              "      padding: 0 0 0 0;\n",
              "      width: 32px;\n",
              "    }\n",
              "\n",
              "    .colab-df-convert:hover {\n",
              "      background-color: #E2EBFA;\n",
              "      box-shadow: 0px 1px 2px rgba(60, 64, 67, 0.3), 0px 1px 3px 1px rgba(60, 64, 67, 0.15);\n",
              "      fill: #174EA6;\n",
              "    }\n",
              "\n",
              "    [theme=dark] .colab-df-convert {\n",
              "      background-color: #3B4455;\n",
              "      fill: #D2E3FC;\n",
              "    }\n",
              "\n",
              "    [theme=dark] .colab-df-convert:hover {\n",
              "      background-color: #434B5C;\n",
              "      box-shadow: 0px 1px 3px 1px rgba(0, 0, 0, 0.15);\n",
              "      filter: drop-shadow(0px 1px 2px rgba(0, 0, 0, 0.3));\n",
              "      fill: #FFFFFF;\n",
              "    }\n",
              "  </style>\n",
              "\n",
              "      <script>\n",
              "        const buttonEl =\n",
              "          document.querySelector('#df-5d2d9759-ee80-4c3a-8555-5b160f8b6628 button.colab-df-convert');\n",
              "        buttonEl.style.display =\n",
              "          google.colab.kernel.accessAllowed ? 'block' : 'none';\n",
              "\n",
              "        async function convertToInteractive(key) {\n",
              "          const element = document.querySelector('#df-5d2d9759-ee80-4c3a-8555-5b160f8b6628');\n",
              "          const dataTable =\n",
              "            await google.colab.kernel.invokeFunction('convertToInteractive',\n",
              "                                                     [key], {});\n",
              "          if (!dataTable) return;\n",
              "\n",
              "          const docLinkHtml = 'Like what you see? Visit the ' +\n",
              "            '<a target=\"_blank\" href=https://colab.research.google.com/notebooks/data_table.ipynb>data table notebook</a>'\n",
              "            + ' to learn more about interactive tables.';\n",
              "          element.innerHTML = '';\n",
              "          dataTable['output_type'] = 'display_data';\n",
              "          await google.colab.output.renderOutput(dataTable, element);\n",
              "          const docLink = document.createElement('div');\n",
              "          docLink.innerHTML = docLinkHtml;\n",
              "          element.appendChild(docLink);\n",
              "        }\n",
              "      </script>\n",
              "    </div>\n",
              "  </div>\n",
              "  "
            ]
          },
          "metadata": {},
          "execution_count": 48
        }
      ]
    },
    {
      "cell_type": "code",
      "source": [
        "opendata_train_line.shape"
      ],
      "metadata": {
        "colab": {
          "base_uri": "https://localhost:8080/"
        },
        "id": "gohOdbq0Lime",
        "outputId": "16d27614-6008-4579-ff15-ac2b47ff3e4a"
      },
      "execution_count": 47,
      "outputs": [
        {
          "output_type": "execute_result",
          "data": {
            "text/plain": [
              "(49, 5)"
            ]
          },
          "metadata": {},
          "execution_count": 47
        }
      ]
    },
    {
      "cell_type": "markdown",
      "source": [
        "### Missing/Null Checking"
      ],
      "metadata": {
        "id": "9Oyj3bPwLudv"
      }
    },
    {
      "cell_type": "code",
      "source": [
        "opendata_train_line.isnull().any()"
      ],
      "metadata": {
        "colab": {
          "base_uri": "https://localhost:8080/"
        },
        "id": "TWm1cPawLvQF",
        "outputId": "3e04d437-53c4-4e1e-e2ef-6c232952c27e"
      },
      "execution_count": 51,
      "outputs": [
        {
          "output_type": "execute_result",
          "data": {
            "text/plain": [
              "row_number    False\n",
              "name          False\n",
              "area          False\n",
              "status        False\n",
              "geometry      False\n",
              "dtype: bool"
            ]
          },
          "metadata": {},
          "execution_count": 51
        }
      ]
    },
    {
      "cell_type": "code",
      "source": [
        "# save data\n",
        "opendata_train_line.to_csv('opendata_train_line_clean_F1.csv', index=False)"
      ],
      "metadata": {
        "id": "P2XG02b7L9NE"
      },
      "execution_count": 52,
      "outputs": []
    },
    {
      "cell_type": "markdown",
      "source": [
        "#Merge Table"
      ],
      "metadata": {
        "id": "5Zj2g0jEzkHv"
      }
    },
    {
      "cell_type": "code",
      "source": [
        "import pandas as pd\n",
        "opendata_project_clean_F1 = pd.read_csv('opendata_project_clean_F1.csv') #ตารางหลัก\n",
        "opendata_unittype_clean_F1 = pd.read_csv('opendata_unittype_clean_F1.csv') \n",
        "opendata_train_station_clean_F1 = pd.read_csv('opendata_train_station_clean_F1.csv')\n",
        "opendata_train_line_clean_F1 = pd.read_csv('opendata_train_line_clean_F1.csv')"
      ],
      "metadata": {
        "id": "hTSoZIQgMTLd"
      },
      "execution_count": 53,
      "outputs": []
    },
    {
      "cell_type": "markdown",
      "source": [
        "## 1.รวมตารางprojectกับunittype"
      ],
      "metadata": {
        "id": "tmqZxgZeznoQ"
      }
    },
    {
      "cell_type": "code",
      "source": [
        "opendata_project_clean_F1.columns"
      ],
      "metadata": {
        "colab": {
          "base_uri": "https://localhost:8080/"
        },
        "id": "bbEO34cTM35m",
        "outputId": "4a96f38d-20d7-4a5a-89a2-107b4025e3fe"
      },
      "execution_count": 54,
      "outputs": [
        {
          "output_type": "execute_result",
          "data": {
            "text/plain": [
              "Index(['row_number', 'project_id', 'name_en', 'propertytype_id',\n",
              "       'propertytype_name_en', 'price_min', 'developer_id',\n",
              "       'developer_name_en', 'latitude', 'longitude', 'neighborhood_id',\n",
              "       'neighborhood_name_en', 'subdistrict_id', 'subdistrict_name_en',\n",
              "       'subdistrict_name_th', 'district_id', 'district_name_en',\n",
              "       'district_name_th', 'province_id', 'province_name_en',\n",
              "       'province_name_th', 'zipcode', 'count_elevator',\n",
              "       'count_elevator_service', 'count_floor', 'count_parking', 'count_unit',\n",
              "       'count_unittype', 'facility_clubhouse', 'facility_fitness',\n",
              "       'facility_meeting', 'facility_park', 'facility_playground',\n",
              "       'facility_pool', 'facility_security'],\n",
              "      dtype='object')"
            ]
          },
          "metadata": {},
          "execution_count": 54
        }
      ]
    },
    {
      "cell_type": "code",
      "source": [
        "opendata_unittype_clean_F1.columns"
      ],
      "metadata": {
        "colab": {
          "base_uri": "https://localhost:8080/"
        },
        "id": "CC5Zg6kYM8IQ",
        "outputId": "267c25be-8dd0-40b5-f78d-ae7aea6b6e76"
      },
      "execution_count": 55,
      "outputs": [
        {
          "output_type": "execute_result",
          "data": {
            "text/plain": [
              "Index(['row_number', 'unittype_id', 'project_id', 'name_th', 'propertytype_id',\n",
              "       'propertytype_name_en', 'propertytype_name_th', 'count_airconditioner',\n",
              "       'count_elevator', 'count_floor_internal', 'count_parking',\n",
              "       'count_room_bath', 'count_room_bed', 'count_room_dinning',\n",
              "       'count_room_guest', 'count_room_kitchen', 'count_room_living',\n",
              "       'count_room_maid', 'count_room_storage', 'count_room_utility'],\n",
              "      dtype='object')"
            ]
          },
          "metadata": {},
          "execution_count": 55
        }
      ]
    },
    {
      "cell_type": "code",
      "source": [
        "# merge\n",
        "table_merge = opendata_project_clean_F1.merge(opendata_unittype_clean_F1, how ='left', left_on='project_id',right_on='project_id') \n",
        "print(table_merge.shape)"
      ],
      "metadata": {
        "colab": {
          "base_uri": "https://localhost:8080/"
        },
        "id": "IysUqQ-5aaiN",
        "outputId": "16bf21ba-5161-45ff-d6de-3d368c6c7f1c"
      },
      "execution_count": 56,
      "outputs": [
        {
          "output_type": "stream",
          "name": "stdout",
          "text": [
            "(53480, 54)\n"
          ]
        }
      ]
    },
    {
      "cell_type": "code",
      "source": [
        "table_merge.isnull().any()"
      ],
      "metadata": {
        "colab": {
          "base_uri": "https://localhost:8080/"
        },
        "id": "mq6NW70SasaB",
        "outputId": "26e1adf6-7aab-4ae1-955e-4353790b4990"
      },
      "execution_count": 57,
      "outputs": [
        {
          "output_type": "execute_result",
          "data": {
            "text/plain": [
              "row_number_x              False\n",
              "project_id                False\n",
              "name_en                   False\n",
              "propertytype_id_x         False\n",
              "propertytype_name_en_x    False\n",
              "price_min                 False\n",
              "developer_id              False\n",
              "developer_name_en         False\n",
              "latitude                  False\n",
              "longitude                 False\n",
              "neighborhood_id           False\n",
              "neighborhood_name_en      False\n",
              "subdistrict_id            False\n",
              "subdistrict_name_en       False\n",
              "subdistrict_name_th       False\n",
              "district_id               False\n",
              "district_name_en          False\n",
              "district_name_th          False\n",
              "province_id               False\n",
              "province_name_en          False\n",
              "province_name_th          False\n",
              "zipcode                   False\n",
              "count_elevator_x          False\n",
              "count_elevator_service    False\n",
              "count_floor               False\n",
              "count_parking_x           False\n",
              "count_unit                False\n",
              "count_unittype            False\n",
              "facility_clubhouse        False\n",
              "facility_fitness          False\n",
              "facility_meeting          False\n",
              "facility_park             False\n",
              "facility_playground       False\n",
              "facility_pool             False\n",
              "facility_security         False\n",
              "row_number_y              False\n",
              "unittype_id               False\n",
              "name_th                   False\n",
              "propertytype_id_y         False\n",
              "propertytype_name_en_y    False\n",
              "propertytype_name_th      False\n",
              "count_airconditioner      False\n",
              "count_elevator_y          False\n",
              "count_floor_internal      False\n",
              "count_parking_y           False\n",
              "count_room_bath           False\n",
              "count_room_bed            False\n",
              "count_room_dinning        False\n",
              "count_room_guest          False\n",
              "count_room_kitchen        False\n",
              "count_room_living         False\n",
              "count_room_maid           False\n",
              "count_room_storage        False\n",
              "count_room_utility        False\n",
              "dtype: bool"
            ]
          },
          "metadata": {},
          "execution_count": 57
        }
      ]
    },
    {
      "cell_type": "markdown",
      "source": [
        "## 2.รวมตารางtrainstationกับtrainline"
      ],
      "metadata": {
        "id": "EZ3G8LUczwHY"
      }
    },
    {
      "cell_type": "code",
      "source": [
        "opendata_train_station_clean_F1.columns"
      ],
      "metadata": {
        "colab": {
          "base_uri": "https://localhost:8080/"
        },
        "id": "ZEp7d74_bBKG",
        "outputId": "08a0e2ec-c988-4d2e-9551-b8c5ebebd0f3"
      },
      "execution_count": 59,
      "outputs": [
        {
          "output_type": "execute_result",
          "data": {
            "text/plain": [
              "Index(['row_number', 'gid', 'line_no', 'railway', 'line_typt', 'line_type',\n",
              "       'status', 'line_th', 'line_en', 'station_th', 'station_en', 'latitude',\n",
              "       'longitude', 'prov_namt', 'prov_name', 'amp_namt', 'amp_name',\n",
              "       'tam_namt', 'tam_name'],\n",
              "      dtype='object')"
            ]
          },
          "metadata": {},
          "execution_count": 59
        }
      ]
    },
    {
      "cell_type": "code",
      "source": [
        "opendata_train_line_clean_F1.columns"
      ],
      "metadata": {
        "colab": {
          "base_uri": "https://localhost:8080/"
        },
        "id": "NpHkRpRBb5GH",
        "outputId": "e1ae0e13-b0a5-4e76-e0d9-59c2cdf16125"
      },
      "execution_count": 64,
      "outputs": [
        {
          "output_type": "execute_result",
          "data": {
            "text/plain": [
              "Index(['row_number', 'name', 'area', 'status', 'geometry'], dtype='object')"
            ]
          },
          "metadata": {},
          "execution_count": 64
        }
      ]
    },
    {
      "cell_type": "code",
      "source": [
        "table_merge1 = opendata_train_station_clean_F1.merge(opendata_train_line_clean_F1, how ='left', left_on='row_number',right_on='row_number') \n",
        "print(table_merge1.shape)"
      ],
      "metadata": {
        "colab": {
          "base_uri": "https://localhost:8080/"
        },
        "id": "W5pWtT45Uag9",
        "outputId": "9c3c9921-3433-4871-c512-a329763f87fb"
      },
      "execution_count": 65,
      "outputs": [
        {
          "output_type": "stream",
          "name": "stdout",
          "text": [
            "(318, 23)\n"
          ]
        }
      ]
    },
    {
      "cell_type": "markdown",
      "source": [
        "#### Missing/Null Checking"
      ],
      "metadata": {
        "id": "u7CAgfihf8m_"
      }
    },
    {
      "cell_type": "code",
      "source": [
        "table_merge1.isnull().any()"
      ],
      "metadata": {
        "colab": {
          "base_uri": "https://localhost:8080/"
        },
        "id": "7Q-QD_3jbbCY",
        "outputId": "142ceb1b-eaa6-4bbe-eeb3-69bff4cdfd4f"
      },
      "execution_count": 66,
      "outputs": [
        {
          "output_type": "execute_result",
          "data": {
            "text/plain": [
              "row_number    False\n",
              "gid           False\n",
              "line_no       False\n",
              "railway       False\n",
              "line_typt     False\n",
              "line_type     False\n",
              "status_x      False\n",
              "line_th       False\n",
              "line_en       False\n",
              "station_th    False\n",
              "station_en    False\n",
              "latitude      False\n",
              "longitude     False\n",
              "prov_namt     False\n",
              "prov_name     False\n",
              "amp_namt      False\n",
              "amp_name      False\n",
              "tam_namt      False\n",
              "tam_name      False\n",
              "name           True\n",
              "area           True\n",
              "status_y       True\n",
              "geometry       True\n",
              "dtype: bool"
            ]
          },
          "metadata": {},
          "execution_count": 66
        }
      ]
    },
    {
      "cell_type": "code",
      "source": [
        "# ' eating_daytime ' คะแนนการกิน ด้านราคา ช่วงกลางวัน เช็คว่ามีมิสซิ่งทั้งหมดเท่าไหร่\n",
        "print(len(table_merge1[table_merge1['name'].isnull()])) "
      ],
      "metadata": {
        "colab": {
          "base_uri": "https://localhost:8080/"
        },
        "id": "SEUZThoybcGs",
        "outputId": "3455f42c-8485-4919-ce54-93f213bfbf0d"
      },
      "execution_count": 68,
      "outputs": [
        {
          "output_type": "stream",
          "name": "stdout",
          "text": [
            "269\n"
          ]
        }
      ]
    },
    {
      "cell_type": "code",
      "source": [
        "len(table_merge1) #ข้อมูลทั้งหมด"
      ],
      "metadata": {
        "colab": {
          "base_uri": "https://localhost:8080/"
        },
        "id": "o1LEq2XTdCB4",
        "outputId": "5d69172e-4a6d-49dd-eebe-b6bebaab2bef"
      },
      "execution_count": 69,
      "outputs": [
        {
          "output_type": "execute_result",
          "data": {
            "text/plain": [
              "318"
            ]
          },
          "metadata": {},
          "execution_count": 69
        }
      ]
    },
    {
      "cell_type": "code",
      "source": [
        "#we used fill Null with 0 เป็นศูนย์เพราะข้อมูลเยอะมากจะdropไปไม่ได้\n",
        "table_merge1 = table_merge1.fillna(0) "
      ],
      "metadata": {
        "id": "VDHgYfCWdGPe"
      },
      "execution_count": 70,
      "outputs": []
    },
    {
      "cell_type": "code",
      "source": [
        "table_merge1.isnull().any()"
      ],
      "metadata": {
        "colab": {
          "base_uri": "https://localhost:8080/"
        },
        "id": "RN7aOxrSdL2C",
        "outputId": "a24717e3-45a2-4108-820b-de6d1dc5b336"
      },
      "execution_count": 71,
      "outputs": [
        {
          "output_type": "execute_result",
          "data": {
            "text/plain": [
              "row_number    False\n",
              "gid           False\n",
              "line_no       False\n",
              "railway       False\n",
              "line_typt     False\n",
              "line_type     False\n",
              "status_x      False\n",
              "line_th       False\n",
              "line_en       False\n",
              "station_th    False\n",
              "station_en    False\n",
              "latitude      False\n",
              "longitude     False\n",
              "prov_namt     False\n",
              "prov_name     False\n",
              "amp_namt      False\n",
              "amp_name      False\n",
              "tam_namt      False\n",
              "tam_name      False\n",
              "name          False\n",
              "area          False\n",
              "status_y      False\n",
              "geometry      False\n",
              "dtype: bool"
            ]
          },
          "metadata": {},
          "execution_count": 71
        }
      ]
    },
    {
      "cell_type": "markdown",
      "source": [
        "## 3.รวมตาราง table_merge กับ table_merge1"
      ],
      "metadata": {
        "id": "n1eU7WrGdUTO"
      }
    },
    {
      "cell_type": "code",
      "source": [
        "table_merge.columns"
      ],
      "metadata": {
        "colab": {
          "base_uri": "https://localhost:8080/"
        },
        "id": "L_F5mWIRddet",
        "outputId": "010c4e82-377f-449c-d2cb-66f5351209cf"
      },
      "execution_count": 72,
      "outputs": [
        {
          "output_type": "execute_result",
          "data": {
            "text/plain": [
              "Index(['row_number_x', 'project_id', 'name_en', 'propertytype_id_x',\n",
              "       'propertytype_name_en_x', 'price_min', 'developer_id',\n",
              "       'developer_name_en', 'latitude', 'longitude', 'neighborhood_id',\n",
              "       'neighborhood_name_en', 'subdistrict_id', 'subdistrict_name_en',\n",
              "       'subdistrict_name_th', 'district_id', 'district_name_en',\n",
              "       'district_name_th', 'province_id', 'province_name_en',\n",
              "       'province_name_th', 'zipcode', 'count_elevator_x',\n",
              "       'count_elevator_service', 'count_floor', 'count_parking_x',\n",
              "       'count_unit', 'count_unittype', 'facility_clubhouse',\n",
              "       'facility_fitness', 'facility_meeting', 'facility_park',\n",
              "       'facility_playground', 'facility_pool', 'facility_security',\n",
              "       'row_number_y', 'unittype_id', 'name_th', 'propertytype_id_y',\n",
              "       'propertytype_name_en_y', 'propertytype_name_th',\n",
              "       'count_airconditioner', 'count_elevator_y', 'count_floor_internal',\n",
              "       'count_parking_y', 'count_room_bath', 'count_room_bed',\n",
              "       'count_room_dinning', 'count_room_guest', 'count_room_kitchen',\n",
              "       'count_room_living', 'count_room_maid', 'count_room_storage',\n",
              "       'count_room_utility'],\n",
              "      dtype='object')"
            ]
          },
          "metadata": {},
          "execution_count": 72
        }
      ]
    },
    {
      "cell_type": "code",
      "source": [
        "table_merge1.columns"
      ],
      "metadata": {
        "colab": {
          "base_uri": "https://localhost:8080/"
        },
        "id": "XLVgWMGJdn7x",
        "outputId": "87c8e4a6-219a-47b5-a135-46c79c3f8c3f"
      },
      "execution_count": 73,
      "outputs": [
        {
          "output_type": "execute_result",
          "data": {
            "text/plain": [
              "Index(['row_number', 'gid', 'line_no', 'railway', 'line_typt', 'line_type',\n",
              "       'status_x', 'line_th', 'line_en', 'station_th', 'station_en',\n",
              "       'latitude', 'longitude', 'prov_namt', 'prov_name', 'amp_namt',\n",
              "       'amp_name', 'tam_namt', 'tam_name', 'name', 'area', 'status_y',\n",
              "       'geometry'],\n",
              "      dtype='object')"
            ]
          },
          "metadata": {},
          "execution_count": 73
        }
      ]
    },
    {
      "cell_type": "code",
      "source": [
        "table_merge2 = table_merge.merge(table_merge1, how ='left', left_on='latitude',right_on='latitude') \n",
        "print(table_merge2.shape)"
      ],
      "metadata": {
        "colab": {
          "base_uri": "https://localhost:8080/"
        },
        "id": "fXpq7J0EdqQ3",
        "outputId": "f4ba7d81-0739-47a0-cb09-d5eb967e6b9b"
      },
      "execution_count": 74,
      "outputs": [
        {
          "output_type": "stream",
          "name": "stdout",
          "text": [
            "(53480, 76)\n"
          ]
        }
      ]
    },
    {
      "cell_type": "markdown",
      "source": [
        "#### Missing/Null Checking"
      ],
      "metadata": {
        "id": "H3MX1cAAgCAH"
      }
    },
    {
      "cell_type": "code",
      "source": [
        "table_merge2.isnull().any()"
      ],
      "metadata": {
        "colab": {
          "base_uri": "https://localhost:8080/"
        },
        "id": "qaRjjyd2eKuo",
        "outputId": "6d89ccba-1b50-4437-dbfa-fc8f2bc9d484"
      },
      "execution_count": 78,
      "outputs": [
        {
          "output_type": "execute_result",
          "data": {
            "text/plain": [
              "row_number_x              False\n",
              "project_id                False\n",
              "name_en                   False\n",
              "propertytype_id_x         False\n",
              "propertytype_name_en_x    False\n",
              "                          ...  \n",
              "tam_name                   True\n",
              "name                       True\n",
              "area                       True\n",
              "status_y                   True\n",
              "geometry                   True\n",
              "Length: 76, dtype: bool"
            ]
          },
          "metadata": {},
          "execution_count": 78
        }
      ]
    },
    {
      "cell_type": "code",
      "source": [
        "# ' eating_daytime ' คะแนนการกิน ด้านราคา ช่วงกลางวัน ถ้าลค่าว่างออกไปมันจะเหลือแค่ 18 จังหวัด\n",
        "print(len(table_merge2[table_merge2['area'].isnull()])) "
      ],
      "metadata": {
        "colab": {
          "base_uri": "https://localhost:8080/"
        },
        "id": "lZ4n8LzUePFL",
        "outputId": "667c9fcb-6fce-43bf-eaf8-0418da2c44a7"
      },
      "execution_count": 81,
      "outputs": [
        {
          "output_type": "stream",
          "name": "stdout",
          "text": [
            "53475\n"
          ]
        }
      ]
    },
    {
      "cell_type": "code",
      "source": [
        "len(table_merge2) #ข้อมูลทั้งหมด"
      ],
      "metadata": {
        "colab": {
          "base_uri": "https://localhost:8080/"
        },
        "id": "4s5wrsRDe-4S",
        "outputId": "d7b1235d-5f02-4d0e-f07b-b0f40bd8dd14"
      },
      "execution_count": 82,
      "outputs": [
        {
          "output_type": "execute_result",
          "data": {
            "text/plain": [
              "53480"
            ]
          },
          "metadata": {},
          "execution_count": 82
        }
      ]
    },
    {
      "cell_type": "code",
      "source": [
        "#we used fill Null \n",
        "table_merge2 = table_merge2.fillna(0) "
      ],
      "metadata": {
        "id": "EsdxAo4WfYms"
      },
      "execution_count": 83,
      "outputs": []
    },
    {
      "cell_type": "code",
      "source": [
        "table_merge2.isnull().any()"
      ],
      "metadata": {
        "colab": {
          "base_uri": "https://localhost:8080/"
        },
        "id": "oySZpNW5fhRu",
        "outputId": "96b1be04-9ff8-4f1e-ebce-dcdbb149556a"
      },
      "execution_count": 84,
      "outputs": [
        {
          "output_type": "execute_result",
          "data": {
            "text/plain": [
              "row_number_x              False\n",
              "project_id                False\n",
              "name_en                   False\n",
              "propertytype_id_x         False\n",
              "propertytype_name_en_x    False\n",
              "                          ...  \n",
              "tam_name                  False\n",
              "name                      False\n",
              "area                      False\n",
              "status_y                  False\n",
              "geometry                  False\n",
              "Length: 76, dtype: bool"
            ]
          },
          "metadata": {},
          "execution_count": 84
        }
      ]
    },
    {
      "cell_type": "code",
      "source": [
        "table_merge2"
      ],
      "metadata": {
        "colab": {
          "base_uri": "https://localhost:8080/",
          "height": 852
        },
        "id": "SgLoKiHPfiQu",
        "outputId": "be6f07b6-8b68-4443-8419-587699f67c80"
      },
      "execution_count": 85,
      "outputs": [
        {
          "output_type": "execute_result",
          "data": {
            "text/plain": [
              "       row_number_x                project_id  \\\n",
              "0            7880.0  5ee08d64dda791001299b2a6   \n",
              "1            7880.0  5ee08d64dda791001299b2a6   \n",
              "2           16689.0             project_11326   \n",
              "3           16689.0             project_11326   \n",
              "4             290.0  62739c4089233e001362b001   \n",
              "...             ...                       ...   \n",
              "53475        5889.0               project_144   \n",
              "53476        5889.0               project_144   \n",
              "53477        5889.0               project_144   \n",
              "53478        5889.0               project_144   \n",
              "53479        5529.0             project_16300   \n",
              "\n",
              "                                  name_en  propertytype_id_x  \\\n",
              "0      Winning Residence Sukhumvit Praksa                  1   \n",
              "1      Winning Residence Sukhumvit Praksa                  1   \n",
              "2                        Gift Condominium                  2   \n",
              "3                        Gift Condominium                  2   \n",
              "4        Sanrak 9 Sukprayoon Nong Krathum                  3   \n",
              "...                                   ...                ...   \n",
              "53475       Koolpunt Ville 15 Park Avenue                  1   \n",
              "53476       Koolpunt Ville 15 Park Avenue                  1   \n",
              "53477       Koolpunt Ville 15 Park Avenue                  1   \n",
              "53478       Koolpunt Ville 15 Park Avenue                  1   \n",
              "53479                Thawisuk Garden Home                  1   \n",
              "\n",
              "      propertytype_name_en_x  price_min     developer_id  \\\n",
              "0             Detached House    3790000  developer_10678   \n",
              "1             Detached House    3790000  developer_10678   \n",
              "2                      Condo    1100000   developer_7319   \n",
              "3                      Condo    1100000   developer_7319   \n",
              "4                   Townhome          0  developer_10510   \n",
              "...                      ...        ...              ...   \n",
              "53475         Detached House    4000000   developer_1004   \n",
              "53476         Detached House    4000000   developer_1004   \n",
              "53477         Detached House    4000000   developer_1004   \n",
              "53478         Detached House    4000000   developer_1004   \n",
              "53479         Detached House    2800000  developer_10510   \n",
              "\n",
              "                  developer_name_en   latitude  longitude_x  ... prov_namt  \\\n",
              "0      Winning Asset Plus Co., Ltd.  13.570530   100.669356  ...         0   \n",
              "1      Winning Asset Plus Co., Ltd.  13.570530   100.669356  ...         0   \n",
              "2          Gift Asset Land Co.,Ltd.  13.033814   101.080739  ...         0   \n",
              "3          Gift Asset Land Co.,Ltd.  13.033814   101.080739  ...         0   \n",
              "4                           Unknown  13.417402   101.090080  ...         0   \n",
              "...                             ...        ...          ...  ...       ...   \n",
              "53475    Homeland Service Co., Ltd.  18.808447    99.058695  ...         0   \n",
              "53476    Homeland Service Co., Ltd.  18.808447    99.058695  ...         0   \n",
              "53477    Homeland Service Co., Ltd.  18.808447    99.058695  ...         0   \n",
              "53478    Homeland Service Co., Ltd.  18.808447    99.058695  ...         0   \n",
              "53479                       Unknown  12.684945   101.066167  ...         0   \n",
              "\n",
              "      prov_name  amp_namt amp_name tam_namt  tam_name name area  status_y  \\\n",
              "0             0         0        0        0         0    0    0         0   \n",
              "1             0         0        0        0         0    0    0         0   \n",
              "2             0         0        0        0         0    0    0         0   \n",
              "3             0         0        0        0         0    0    0         0   \n",
              "4             0         0        0        0         0    0    0         0   \n",
              "...         ...       ...      ...      ...       ...  ...  ...       ...   \n",
              "53475         0         0        0        0         0    0    0         0   \n",
              "53476         0         0        0        0         0    0    0         0   \n",
              "53477         0         0        0        0         0    0    0         0   \n",
              "53478         0         0        0        0         0    0    0         0   \n",
              "53479         0         0        0        0         0    0    0         0   \n",
              "\n",
              "      geometry  \n",
              "0            0  \n",
              "1            0  \n",
              "2            0  \n",
              "3            0  \n",
              "4            0  \n",
              "...        ...  \n",
              "53475        0  \n",
              "53476        0  \n",
              "53477        0  \n",
              "53478        0  \n",
              "53479        0  \n",
              "\n",
              "[53480 rows x 76 columns]"
            ],
            "text/html": [
              "\n",
              "  <div id=\"df-35164be5-c4a8-43e4-b74d-059f06e3a59e\">\n",
              "    <div class=\"colab-df-container\">\n",
              "      <div>\n",
              "<style scoped>\n",
              "    .dataframe tbody tr th:only-of-type {\n",
              "        vertical-align: middle;\n",
              "    }\n",
              "\n",
              "    .dataframe tbody tr th {\n",
              "        vertical-align: top;\n",
              "    }\n",
              "\n",
              "    .dataframe thead th {\n",
              "        text-align: right;\n",
              "    }\n",
              "</style>\n",
              "<table border=\"1\" class=\"dataframe\">\n",
              "  <thead>\n",
              "    <tr style=\"text-align: right;\">\n",
              "      <th></th>\n",
              "      <th>row_number_x</th>\n",
              "      <th>project_id</th>\n",
              "      <th>name_en</th>\n",
              "      <th>propertytype_id_x</th>\n",
              "      <th>propertytype_name_en_x</th>\n",
              "      <th>price_min</th>\n",
              "      <th>developer_id</th>\n",
              "      <th>developer_name_en</th>\n",
              "      <th>latitude</th>\n",
              "      <th>longitude_x</th>\n",
              "      <th>...</th>\n",
              "      <th>prov_namt</th>\n",
              "      <th>prov_name</th>\n",
              "      <th>amp_namt</th>\n",
              "      <th>amp_name</th>\n",
              "      <th>tam_namt</th>\n",
              "      <th>tam_name</th>\n",
              "      <th>name</th>\n",
              "      <th>area</th>\n",
              "      <th>status_y</th>\n",
              "      <th>geometry</th>\n",
              "    </tr>\n",
              "  </thead>\n",
              "  <tbody>\n",
              "    <tr>\n",
              "      <th>0</th>\n",
              "      <td>7880.0</td>\n",
              "      <td>5ee08d64dda791001299b2a6</td>\n",
              "      <td>Winning Residence Sukhumvit Praksa</td>\n",
              "      <td>1</td>\n",
              "      <td>Detached House</td>\n",
              "      <td>3790000</td>\n",
              "      <td>developer_10678</td>\n",
              "      <td>Winning Asset Plus Co., Ltd.</td>\n",
              "      <td>13.570530</td>\n",
              "      <td>100.669356</td>\n",
              "      <td>...</td>\n",
              "      <td>0</td>\n",
              "      <td>0</td>\n",
              "      <td>0</td>\n",
              "      <td>0</td>\n",
              "      <td>0</td>\n",
              "      <td>0</td>\n",
              "      <td>0</td>\n",
              "      <td>0</td>\n",
              "      <td>0</td>\n",
              "      <td>0</td>\n",
              "    </tr>\n",
              "    <tr>\n",
              "      <th>1</th>\n",
              "      <td>7880.0</td>\n",
              "      <td>5ee08d64dda791001299b2a6</td>\n",
              "      <td>Winning Residence Sukhumvit Praksa</td>\n",
              "      <td>1</td>\n",
              "      <td>Detached House</td>\n",
              "      <td>3790000</td>\n",
              "      <td>developer_10678</td>\n",
              "      <td>Winning Asset Plus Co., Ltd.</td>\n",
              "      <td>13.570530</td>\n",
              "      <td>100.669356</td>\n",
              "      <td>...</td>\n",
              "      <td>0</td>\n",
              "      <td>0</td>\n",
              "      <td>0</td>\n",
              "      <td>0</td>\n",
              "      <td>0</td>\n",
              "      <td>0</td>\n",
              "      <td>0</td>\n",
              "      <td>0</td>\n",
              "      <td>0</td>\n",
              "      <td>0</td>\n",
              "    </tr>\n",
              "    <tr>\n",
              "      <th>2</th>\n",
              "      <td>16689.0</td>\n",
              "      <td>project_11326</td>\n",
              "      <td>Gift Condominium</td>\n",
              "      <td>2</td>\n",
              "      <td>Condo</td>\n",
              "      <td>1100000</td>\n",
              "      <td>developer_7319</td>\n",
              "      <td>Gift Asset Land Co.,Ltd.</td>\n",
              "      <td>13.033814</td>\n",
              "      <td>101.080739</td>\n",
              "      <td>...</td>\n",
              "      <td>0</td>\n",
              "      <td>0</td>\n",
              "      <td>0</td>\n",
              "      <td>0</td>\n",
              "      <td>0</td>\n",
              "      <td>0</td>\n",
              "      <td>0</td>\n",
              "      <td>0</td>\n",
              "      <td>0</td>\n",
              "      <td>0</td>\n",
              "    </tr>\n",
              "    <tr>\n",
              "      <th>3</th>\n",
              "      <td>16689.0</td>\n",
              "      <td>project_11326</td>\n",
              "      <td>Gift Condominium</td>\n",
              "      <td>2</td>\n",
              "      <td>Condo</td>\n",
              "      <td>1100000</td>\n",
              "      <td>developer_7319</td>\n",
              "      <td>Gift Asset Land Co.,Ltd.</td>\n",
              "      <td>13.033814</td>\n",
              "      <td>101.080739</td>\n",
              "      <td>...</td>\n",
              "      <td>0</td>\n",
              "      <td>0</td>\n",
              "      <td>0</td>\n",
              "      <td>0</td>\n",
              "      <td>0</td>\n",
              "      <td>0</td>\n",
              "      <td>0</td>\n",
              "      <td>0</td>\n",
              "      <td>0</td>\n",
              "      <td>0</td>\n",
              "    </tr>\n",
              "    <tr>\n",
              "      <th>4</th>\n",
              "      <td>290.0</td>\n",
              "      <td>62739c4089233e001362b001</td>\n",
              "      <td>Sanrak 9 Sukprayoon Nong Krathum</td>\n",
              "      <td>3</td>\n",
              "      <td>Townhome</td>\n",
              "      <td>0</td>\n",
              "      <td>developer_10510</td>\n",
              "      <td>Unknown</td>\n",
              "      <td>13.417402</td>\n",
              "      <td>101.090080</td>\n",
              "      <td>...</td>\n",
              "      <td>0</td>\n",
              "      <td>0</td>\n",
              "      <td>0</td>\n",
              "      <td>0</td>\n",
              "      <td>0</td>\n",
              "      <td>0</td>\n",
              "      <td>0</td>\n",
              "      <td>0</td>\n",
              "      <td>0</td>\n",
              "      <td>0</td>\n",
              "    </tr>\n",
              "    <tr>\n",
              "      <th>...</th>\n",
              "      <td>...</td>\n",
              "      <td>...</td>\n",
              "      <td>...</td>\n",
              "      <td>...</td>\n",
              "      <td>...</td>\n",
              "      <td>...</td>\n",
              "      <td>...</td>\n",
              "      <td>...</td>\n",
              "      <td>...</td>\n",
              "      <td>...</td>\n",
              "      <td>...</td>\n",
              "      <td>...</td>\n",
              "      <td>...</td>\n",
              "      <td>...</td>\n",
              "      <td>...</td>\n",
              "      <td>...</td>\n",
              "      <td>...</td>\n",
              "      <td>...</td>\n",
              "      <td>...</td>\n",
              "      <td>...</td>\n",
              "      <td>...</td>\n",
              "    </tr>\n",
              "    <tr>\n",
              "      <th>53475</th>\n",
              "      <td>5889.0</td>\n",
              "      <td>project_144</td>\n",
              "      <td>Koolpunt Ville 15 Park Avenue</td>\n",
              "      <td>1</td>\n",
              "      <td>Detached House</td>\n",
              "      <td>4000000</td>\n",
              "      <td>developer_1004</td>\n",
              "      <td>Homeland Service Co., Ltd.</td>\n",
              "      <td>18.808447</td>\n",
              "      <td>99.058695</td>\n",
              "      <td>...</td>\n",
              "      <td>0</td>\n",
              "      <td>0</td>\n",
              "      <td>0</td>\n",
              "      <td>0</td>\n",
              "      <td>0</td>\n",
              "      <td>0</td>\n",
              "      <td>0</td>\n",
              "      <td>0</td>\n",
              "      <td>0</td>\n",
              "      <td>0</td>\n",
              "    </tr>\n",
              "    <tr>\n",
              "      <th>53476</th>\n",
              "      <td>5889.0</td>\n",
              "      <td>project_144</td>\n",
              "      <td>Koolpunt Ville 15 Park Avenue</td>\n",
              "      <td>1</td>\n",
              "      <td>Detached House</td>\n",
              "      <td>4000000</td>\n",
              "      <td>developer_1004</td>\n",
              "      <td>Homeland Service Co., Ltd.</td>\n",
              "      <td>18.808447</td>\n",
              "      <td>99.058695</td>\n",
              "      <td>...</td>\n",
              "      <td>0</td>\n",
              "      <td>0</td>\n",
              "      <td>0</td>\n",
              "      <td>0</td>\n",
              "      <td>0</td>\n",
              "      <td>0</td>\n",
              "      <td>0</td>\n",
              "      <td>0</td>\n",
              "      <td>0</td>\n",
              "      <td>0</td>\n",
              "    </tr>\n",
              "    <tr>\n",
              "      <th>53477</th>\n",
              "      <td>5889.0</td>\n",
              "      <td>project_144</td>\n",
              "      <td>Koolpunt Ville 15 Park Avenue</td>\n",
              "      <td>1</td>\n",
              "      <td>Detached House</td>\n",
              "      <td>4000000</td>\n",
              "      <td>developer_1004</td>\n",
              "      <td>Homeland Service Co., Ltd.</td>\n",
              "      <td>18.808447</td>\n",
              "      <td>99.058695</td>\n",
              "      <td>...</td>\n",
              "      <td>0</td>\n",
              "      <td>0</td>\n",
              "      <td>0</td>\n",
              "      <td>0</td>\n",
              "      <td>0</td>\n",
              "      <td>0</td>\n",
              "      <td>0</td>\n",
              "      <td>0</td>\n",
              "      <td>0</td>\n",
              "      <td>0</td>\n",
              "    </tr>\n",
              "    <tr>\n",
              "      <th>53478</th>\n",
              "      <td>5889.0</td>\n",
              "      <td>project_144</td>\n",
              "      <td>Koolpunt Ville 15 Park Avenue</td>\n",
              "      <td>1</td>\n",
              "      <td>Detached House</td>\n",
              "      <td>4000000</td>\n",
              "      <td>developer_1004</td>\n",
              "      <td>Homeland Service Co., Ltd.</td>\n",
              "      <td>18.808447</td>\n",
              "      <td>99.058695</td>\n",
              "      <td>...</td>\n",
              "      <td>0</td>\n",
              "      <td>0</td>\n",
              "      <td>0</td>\n",
              "      <td>0</td>\n",
              "      <td>0</td>\n",
              "      <td>0</td>\n",
              "      <td>0</td>\n",
              "      <td>0</td>\n",
              "      <td>0</td>\n",
              "      <td>0</td>\n",
              "    </tr>\n",
              "    <tr>\n",
              "      <th>53479</th>\n",
              "      <td>5529.0</td>\n",
              "      <td>project_16300</td>\n",
              "      <td>Thawisuk Garden Home</td>\n",
              "      <td>1</td>\n",
              "      <td>Detached House</td>\n",
              "      <td>2800000</td>\n",
              "      <td>developer_10510</td>\n",
              "      <td>Unknown</td>\n",
              "      <td>12.684945</td>\n",
              "      <td>101.066167</td>\n",
              "      <td>...</td>\n",
              "      <td>0</td>\n",
              "      <td>0</td>\n",
              "      <td>0</td>\n",
              "      <td>0</td>\n",
              "      <td>0</td>\n",
              "      <td>0</td>\n",
              "      <td>0</td>\n",
              "      <td>0</td>\n",
              "      <td>0</td>\n",
              "      <td>0</td>\n",
              "    </tr>\n",
              "  </tbody>\n",
              "</table>\n",
              "<p>53480 rows × 76 columns</p>\n",
              "</div>\n",
              "      <button class=\"colab-df-convert\" onclick=\"convertToInteractive('df-35164be5-c4a8-43e4-b74d-059f06e3a59e')\"\n",
              "              title=\"Convert this dataframe to an interactive table.\"\n",
              "              style=\"display:none;\">\n",
              "        \n",
              "  <svg xmlns=\"http://www.w3.org/2000/svg\" height=\"24px\"viewBox=\"0 0 24 24\"\n",
              "       width=\"24px\">\n",
              "    <path d=\"M0 0h24v24H0V0z\" fill=\"none\"/>\n",
              "    <path d=\"M18.56 5.44l.94 2.06.94-2.06 2.06-.94-2.06-.94-.94-2.06-.94 2.06-2.06.94zm-11 1L8.5 8.5l.94-2.06 2.06-.94-2.06-.94L8.5 2.5l-.94 2.06-2.06.94zm10 10l.94 2.06.94-2.06 2.06-.94-2.06-.94-.94-2.06-.94 2.06-2.06.94z\"/><path d=\"M17.41 7.96l-1.37-1.37c-.4-.4-.92-.59-1.43-.59-.52 0-1.04.2-1.43.59L10.3 9.45l-7.72 7.72c-.78.78-.78 2.05 0 2.83L4 21.41c.39.39.9.59 1.41.59.51 0 1.02-.2 1.41-.59l7.78-7.78 2.81-2.81c.8-.78.8-2.07 0-2.86zM5.41 20L4 18.59l7.72-7.72 1.47 1.35L5.41 20z\"/>\n",
              "  </svg>\n",
              "      </button>\n",
              "      \n",
              "  <style>\n",
              "    .colab-df-container {\n",
              "      display:flex;\n",
              "      flex-wrap:wrap;\n",
              "      gap: 12px;\n",
              "    }\n",
              "\n",
              "    .colab-df-convert {\n",
              "      background-color: #E8F0FE;\n",
              "      border: none;\n",
              "      border-radius: 50%;\n",
              "      cursor: pointer;\n",
              "      display: none;\n",
              "      fill: #1967D2;\n",
              "      height: 32px;\n",
              "      padding: 0 0 0 0;\n",
              "      width: 32px;\n",
              "    }\n",
              "\n",
              "    .colab-df-convert:hover {\n",
              "      background-color: #E2EBFA;\n",
              "      box-shadow: 0px 1px 2px rgba(60, 64, 67, 0.3), 0px 1px 3px 1px rgba(60, 64, 67, 0.15);\n",
              "      fill: #174EA6;\n",
              "    }\n",
              "\n",
              "    [theme=dark] .colab-df-convert {\n",
              "      background-color: #3B4455;\n",
              "      fill: #D2E3FC;\n",
              "    }\n",
              "\n",
              "    [theme=dark] .colab-df-convert:hover {\n",
              "      background-color: #434B5C;\n",
              "      box-shadow: 0px 1px 3px 1px rgba(0, 0, 0, 0.15);\n",
              "      filter: drop-shadow(0px 1px 2px rgba(0, 0, 0, 0.3));\n",
              "      fill: #FFFFFF;\n",
              "    }\n",
              "  </style>\n",
              "\n",
              "      <script>\n",
              "        const buttonEl =\n",
              "          document.querySelector('#df-35164be5-c4a8-43e4-b74d-059f06e3a59e button.colab-df-convert');\n",
              "        buttonEl.style.display =\n",
              "          google.colab.kernel.accessAllowed ? 'block' : 'none';\n",
              "\n",
              "        async function convertToInteractive(key) {\n",
              "          const element = document.querySelector('#df-35164be5-c4a8-43e4-b74d-059f06e3a59e');\n",
              "          const dataTable =\n",
              "            await google.colab.kernel.invokeFunction('convertToInteractive',\n",
              "                                                     [key], {});\n",
              "          if (!dataTable) return;\n",
              "\n",
              "          const docLinkHtml = 'Like what you see? Visit the ' +\n",
              "            '<a target=\"_blank\" href=https://colab.research.google.com/notebooks/data_table.ipynb>data table notebook</a>'\n",
              "            + ' to learn more about interactive tables.';\n",
              "          element.innerHTML = '';\n",
              "          dataTable['output_type'] = 'display_data';\n",
              "          await google.colab.output.renderOutput(dataTable, element);\n",
              "          const docLink = document.createElement('div');\n",
              "          docLink.innerHTML = docLinkHtml;\n",
              "          element.appendChild(docLink);\n",
              "        }\n",
              "      </script>\n",
              "    </div>\n",
              "  </div>\n",
              "  "
            ]
          },
          "metadata": {},
          "execution_count": 85
        }
      ]
    },
    {
      "cell_type": "code",
      "source": [
        "# save data\n",
        "table_merge2.to_csv('DataProject_clean.csv', index=False)"
      ],
      "metadata": {
        "id": "e5woDTYQfobG"
      },
      "execution_count": 86,
      "outputs": []
    }
  ]
}