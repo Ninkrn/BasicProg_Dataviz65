{
  "nbformat": 4,
  "nbformat_minor": 0,
  "metadata": {
    "colab": {
      "name": "Introduction.ipynb",
      "provenance": [],
      "authorship_tag": "ABX9TyO8BOYVDAc5OBtXDXMoqWCu",
      "include_colab_link": true
    },
    "kernelspec": {
      "name": "python3",
      "display_name": "Python 3"
    },
    "language_info": {
      "name": "python"
    }
  },
  "cells": [
    {
      "cell_type": "markdown",
      "metadata": {
        "id": "view-in-github",
        "colab_type": "text"
      },
      "source": [
        "<a href=\"https://colab.research.google.com/github/Ninkrn/BasicProg_Dataviz65/blob/main/Introduction.ipynb\" target=\"_parent\"><img src=\"https://colab.research.google.com/assets/colab-badge.svg\" alt=\"Open In Colab\"/></a>"
      ]
    },
    {
      "cell_type": "code",
      "execution_count": null,
      "metadata": {
        "id": "L7_sTQqNND3u"
      },
      "outputs": [],
      "source": [
        ""
      ]
    },
    {
      "cell_type": "markdown",
      "source": [
        "กรณิศ เมืองเก่า (633020437-8)"
      ],
      "metadata": {
        "id": "mzOB5X95UGIU"
      }
    },
    {
      "cell_type": "markdown",
      "source": [
        "Markdown\n",
        "https://www.markdownguide.org/basic-syntax/"
      ],
      "metadata": {
        "id": "UpOsUVeLUToT"
      }
    },
    {
      "cell_type": "markdown",
      "source": [
        ""
      ],
      "metadata": {
        "id": "OHrmEVrKUo0W"
      }
    },
    {
      "cell_type": "code",
      "source": [
        ""
      ],
      "metadata": {
        "id": "0_j3tFW2UwVN"
      },
      "execution_count": null,
      "outputs": []
    },
    {
      "cell_type": "markdown",
      "source": [
        "print('Nina')"
      ],
      "metadata": {
        "id": "DPFIZLSSUx2c"
      }
    },
    {
      "cell_type": "code",
      "source": [
        "print(\"Nina\")"
      ],
      "metadata": {
        "colab": {
          "base_uri": "https://localhost:8080/"
        },
        "id": "lcGKuw4NU4Gl",
        "outputId": "909072c2-5286-4328-b05c-567d963be01d"
      },
      "execution_count": 2,
      "outputs": [
        {
          "output_type": "stream",
          "name": "stdout",
          "text": [
            "Nina\n"
          ]
        }
      ]
    },
    {
      "cell_type": "code",
      "source": [
        ""
      ],
      "metadata": {
        "id": "hNLjKIW_VUpl"
      },
      "execution_count": null,
      "outputs": []
    }
  ]
}