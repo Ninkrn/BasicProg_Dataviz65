{
  "nbformat": 4,
  "nbformat_minor": 0,
  "metadata": {
    "colab": {
      "name": "Recap4-5.ipynb",
      "provenance": [],
      "authorship_tag": "ABX9TyMUTxoxQJJjX4/97OCC0owW",
      "include_colab_link": true
    },
    "kernelspec": {
      "name": "python3",
      "display_name": "Python 3"
    },
    "language_info": {
      "name": "python"
    }
  },
  "cells": [
    {
      "cell_type": "markdown",
      "metadata": {
        "id": "view-in-github",
        "colab_type": "text"
      },
      "source": [
        "<a href=\"https://colab.research.google.com/github/Ninkrn/BasicProg_Dataviz65/blob/main/Recap4_5.ipynb\" target=\"_parent\"><img src=\"https://colab.research.google.com/assets/colab-badge.svg\" alt=\"Open In Colab\"/></a>"
      ]
    },
    {
      "cell_type": "markdown",
      "source": [
        "#Matrix Slicing\n"
      ],
      "metadata": {
        "id": "PLENQ5m-DWFV"
      }
    },
    {
      "cell_type": "code",
      "execution_count": null,
      "metadata": {
        "id": "UNPfp4crDRc9"
      },
      "outputs": [],
      "source": [
        "import numpy"
      ]
    },
    {
      "cell_type": "code",
      "source": [
        "list_a = [[2,4,5],[1,2,3],[9,8,7],[3,6,9]]\n",
        "mat_a = numpy.array(list_a)\n",
        "mat_a"
      ],
      "metadata": {
        "colab": {
          "base_uri": "https://localhost:8080/"
        },
        "id": "xMMsHocxEA_6",
        "outputId": "4a5e12fc-89f2-488e-9c98-53f2e60d34fc"
      },
      "execution_count": null,
      "outputs": [
        {
          "output_type": "execute_result",
          "data": {
            "text/plain": [
              "array([[2, 4, 5],\n",
              "       [1, 2, 3],\n",
              "       [9, 8, 7],\n",
              "       [3, 6, 9]])"
            ]
          },
          "metadata": {},
          "execution_count": 2
        }
      ]
    },
    {
      "cell_type": "code",
      "source": [
        "import numpy as np"
      ],
      "metadata": {
        "id": "eBQbXfmNEmRV"
      },
      "execution_count": null,
      "outputs": []
    },
    {
      "cell_type": "code",
      "source": [
        "list_b = [[-1,-1,2,4,5],[-2,-2,1,2,3],[-3,-3,9,8,7],[-4,-4,3,6,9]]\n",
        "mat_b = np.array(list_b)\n",
        "mat_b"
      ],
      "metadata": {
        "colab": {
          "base_uri": "https://localhost:8080/"
        },
        "id": "jxXoxEroEs2A",
        "outputId": "538209b1-8a93-4f40-e272-1298874fa5e0"
      },
      "execution_count": null,
      "outputs": [
        {
          "output_type": "execute_result",
          "data": {
            "text/plain": [
              "array([[-1, -1,  2,  4,  5],\n",
              "       [-2, -2,  1,  2,  3],\n",
              "       [-3, -3,  9,  8,  7],\n",
              "       [-4, -4,  3,  6,  9]])"
            ]
          },
          "metadata": {},
          "execution_count": 4
        }
      ]
    },
    {
      "cell_type": "markdown",
      "source": [
        "## Quiz2\n",
        "1. slice ค่าลบออกมาจาก mat_b\n",
        "2. slice [1,2,3] จาก mat_a\n",
        "3. slice [[1,3],[9,7],[3,9]] ออกมาจาก mat_b"
      ],
      "metadata": {
        "id": "qsZ5uDhWFbs4"
      }
    },
    {
      "cell_type": "code",
      "source": [
        "mat_b[:4,:2]"
      ],
      "metadata": {
        "colab": {
          "base_uri": "https://localhost:8080/"
        },
        "id": "n1b74ydpFDH4",
        "outputId": "83d5f7bc-ca8c-4dfa-fcc1-b3470b54f629"
      },
      "execution_count": null,
      "outputs": [
        {
          "output_type": "execute_result",
          "data": {
            "text/plain": [
              "array([[-1, -1],\n",
              "       [-2, -2],\n",
              "       [-3, -3],\n",
              "       [-4, -4]])"
            ]
          },
          "metadata": {},
          "execution_count": 6
        }
      ]
    },
    {
      "cell_type": "code",
      "source": [
        "mat_a[1]"
      ],
      "metadata": {
        "colab": {
          "base_uri": "https://localhost:8080/"
        },
        "id": "LjJF_kxNG0wW",
        "outputId": "494fd6de-a7e4-4fe4-864e-307dee2b82b9"
      },
      "execution_count": null,
      "outputs": [
        {
          "output_type": "execute_result",
          "data": {
            "text/plain": [
              "array([1, 2, 3])"
            ]
          },
          "metadata": {},
          "execution_count": 9
        }
      ]
    },
    {
      "cell_type": "code",
      "source": [
        "mat_b[-3:,2::2]"
      ],
      "metadata": {
        "colab": {
          "base_uri": "https://localhost:8080/"
        },
        "id": "nwU_IkLcHDCf",
        "outputId": "4d7a2150-d9d2-44e3-e029-97b848e3fec4"
      },
      "execution_count": null,
      "outputs": [
        {
          "output_type": "execute_result",
          "data": {
            "text/plain": [
              "array([[1, 3],\n",
              "       [9, 7],\n",
              "       [3, 9]])"
            ]
          },
          "metadata": {},
          "execution_count": 13
        }
      ]
    },
    {
      "cell_type": "code",
      "source": [
        ""
      ],
      "metadata": {
        "id": "FvHLu-kuHuMm"
      },
      "execution_count": null,
      "outputs": []
    },
    {
      "cell_type": "markdown",
      "source": [
        "## HW1\n",
        "\n",
        "เขียน function\n",
        "แสดงความต่างของเวลา (Quiz1)\n",
        "โดย input อยู่ในรูปแบบ ```'09:11:50 - 12:30:15'```\n",
        "\n",
        "และทดลองรัน\n",
        "\n",
        "* '09:11:50 - 12:30:15'\n",
        "* '13:41:07 - 20:00:18'\n",
        "* '00:00:00 - 23:59:59'"
      ],
      "metadata": {
        "id": "TNqPtg-w0AYA"
      }
    },
    {
      "cell_type": "code",
      "source": [
        "def time_1(n1,n2,n3,N1,N2,N3):\n",
        "    N = ((N1*3600) + (N2*60) + N3) - ((n1*3600) + (n2*60) + n3)\n",
        "    return N\n",
        "\n",
        "print(f'ความต่างของเวลา 09:11:50 - 12:30:15 คือ {time_1(9,11,50,12,30,15)} วินาที')"
      ],
      "metadata": {
        "id": "oPvtZRAj0JsS",
        "outputId": "ff1466f1-a0c1-4819-a8e5-937656a77f01",
        "colab": {
          "base_uri": "https://localhost:8080/"
        }
      },
      "execution_count": 8,
      "outputs": [
        {
          "output_type": "stream",
          "name": "stdout",
          "text": [
            "ความต่างของเวลา 09:11:50 - 12:30:15 คือ 11905 วินาที\n"
          ]
        }
      ]
    },
    {
      "cell_type": "code",
      "source": [
        "def time_2(e1,e2,e3,E1,E2,E3):\n",
        "    E = ((E1*3600) + (E2*60) + E3) - ((e1*3600) + (e2*60) + e3)\n",
        "    return E\n",
        "\n",
        "print(f'ความต่างของเวลา 13:41:07 - 20:00:18 คือ {time_1(13,41,7,20,0,18)} วินาที')"
      ],
      "metadata": {
        "id": "P8mKCXQG0Nqv",
        "outputId": "82993dd2-d946-41d5-942d-971e11e82441",
        "colab": {
          "base_uri": "https://localhost:8080/"
        }
      },
      "execution_count": 9,
      "outputs": [
        {
          "output_type": "stream",
          "name": "stdout",
          "text": [
            "ความต่างของเวลา 13:41:07 - 20:00:18 คือ 22751 วินาที\n"
          ]
        }
      ]
    },
    {
      "cell_type": "code",
      "source": [
        "def time_3(w1,w2,w3,W1,W2,W3):\n",
        "    W = ((W*3600) + (W2*60) + W3) - ((w1*3600) + (w2*60) + w3)\n",
        "    return W\n",
        "\n",
        "print(f'ความต่างของเวลา 00:00:00 - 23:59:59 คือ {time_1(0,0,0,23,59,59)} วินาที')"
      ],
      "metadata": {
        "id": "OfMNd7l40RJP",
        "outputId": "df81d380-3485-4482-aab3-0eb0d591f839",
        "colab": {
          "base_uri": "https://localhost:8080/"
        }
      },
      "execution_count": 10,
      "outputs": [
        {
          "output_type": "stream",
          "name": "stdout",
          "text": [
            "ความต่างของเวลา 00:00:00 - 23:59:59 คือ 86399 วินาที\n"
          ]
        }
      ]
    },
    {
      "cell_type": "markdown",
      "source": [
        "#Quiz3\n",
        "เขียน function แสดงความต่างของเวลาโดย input อยู่ในรูปแบบ 'XX:YY:ZZ - AA:BB:CC'\n",
        "\n",
        "และวนลูปแสดงผลของ input ต่อไปนี้\n",
        "\n",
        "* '09:11:50 - 12:30:15'\n",
        "* '13:41:07 - 20:00:18'\n",
        "* '00:00:00 - 23:59:59'\n",
        "* '18:04:11 - 00:00:00'  #+24hr.\n",
        "* '21:30:00 - 03:05:15'\n",
        "\n",
        "ตัวอย่าง input `'00:00:00-01:00:00'`\n",
        "\n",
        "output `ช่วงระยะเวลาระหว่าง 00:00:00 ถึง 01:00:00 มีเวลาทั้งหมด 3,600 วินาที`"
      ],
      "metadata": {
        "id": "oAFkfqV7y-TY"
      }
    },
    {
      "cell_type": "code",
      "source": [
        "def calculate_time(time):\n",
        "    t = time\n",
        "    input_split = t.split('-')\n",
        "    starttimeSP = input_split[0].split(':')\n",
        "    endtimeSP = input_split[1].split(':')\n",
        "\n",
        "    starttime = 3600*int(starttimeSP[0])+60*int(starttimeSP[1])+int(starttimeSP[2])\n",
        "    endtime = 3600*int(endtimeSP[0])+60*int(endtimeSP[1])+int(endtimeSP[2])\n",
        "\n",
        "    if endtime > starttime :\n",
        "        print(f'ระยะเวลาระหว่าง {input_split[0]} ถึง {input_split[1]} มีเวลาทั้งหมด {endtime-starttime:,} วินาที')\n",
        "    else:\n",
        "        print(f'ระยะเวลาระหว่าง {input_split[0]} ถึง {input_split[1]} มีเวลาทั้งหมด {endtime+24*60*60 - starttime: ,} วินาที')"
      ],
      "metadata": {
        "id": "kB4-mCKOzR8X"
      },
      "execution_count": 6,
      "outputs": []
    },
    {
      "cell_type": "code",
      "source": [
        "for time in ['09:11:50 - 12:30:15',\n",
        "             '13:41:07 - 20:00:18',\n",
        "             '00:00:00 - 23:59:59',\n",
        "             '18:04:11 - 00:00:00',\n",
        "             '21:30:00 - 03:05:15']:\n",
        "    T = time\n",
        "    calculate_time(T)"
      ],
      "metadata": {
        "id": "HFUoZ23bzVYm",
        "outputId": "7f06eece-9bb0-44f3-d3fa-cf1352d9bc53",
        "colab": {
          "base_uri": "https://localhost:8080/"
        }
      },
      "execution_count": 7,
      "outputs": [
        {
          "output_type": "stream",
          "name": "stdout",
          "text": [
            "ระยะเวลาระหว่าง 09:11:50  ถึง  12:30:15 มีเวลาทั้งหมด 11,905 วินาที\n",
            "ระยะเวลาระหว่าง 13:41:07  ถึง  20:00:18 มีเวลาทั้งหมด 22,751 วินาที\n",
            "ระยะเวลาระหว่าง 00:00:00  ถึง  23:59:59 มีเวลาทั้งหมด 86,399 วินาที\n",
            "ระยะเวลาระหว่าง 18:04:11  ถึง  00:00:00 มีเวลาทั้งหมด  21,349 วินาที\n",
            "ระยะเวลาระหว่าง 21:30:00  ถึง  03:05:15 มีเวลาทั้งหมด  20,115 วินาที\n"
          ]
        }
      ]
    }
  ]
}